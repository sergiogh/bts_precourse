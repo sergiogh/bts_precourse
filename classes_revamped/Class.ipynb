{
 "cells": [
  {
   "cell_type": "code",
   "execution_count": 4,
   "id": "49deb97b",
   "metadata": {},
   "outputs": [
    {
     "name": "stdout",
     "output_type": "stream",
     "text": [
      "Value is 10\n"
     ]
    }
   ],
   "source": [
    "def sum(a,b):\n",
    "    final = a + b\n",
    "    print (\"Value is\", final)\n",
    "    \n",
    "sum(4,6)"
   ]
  },
  {
   "cell_type": "code",
   "execution_count": 5,
   "id": "b5cfca61",
   "metadata": {},
   "outputs": [
    {
     "name": "stdout",
     "output_type": "stream",
     "text": [
      "<class '__main__.Fligh'>\n"
     ]
    }
   ],
   "source": [
    "class Fligh:\n",
    "    pass \n",
    "\n",
    "\n",
    "f = Fligh()\n",
    "print(type(f))\n",
    "\n",
    "\n",
    "\n"
   ]
  },
  {
   "cell_type": "code",
   "execution_count": 16,
   "id": "c517d780",
   "metadata": {},
   "outputs": [
    {
     "name": "stdout",
     "output_type": "stream",
     "text": [
      "H23459\n",
      "7\n"
     ]
    }
   ],
   "source": [
    "class Helicopter:\n",
    "    def __init__(self, number, yearOfService = 0):\n",
    "        self._number = number\n",
    "        self._yearOfService = yearOfService\n",
    "    \n",
    "    def number(self):\n",
    "        return self._number\n",
    "    def ServiceinYear(self):\n",
    "        return self._yearOfService\n",
    "\n",
    "\n",
    "h = Helicopter(\"H23459\", 7)\n",
    "print(h.number())\n",
    "print(h.ServiceinYear())\n"
   ]
  },
  {
   "cell_type": "code",
   "execution_count": 11,
   "id": "b657452c",
   "metadata": {
    "scrolled": true
   },
   "outputs": [
    {
     "name": "stdout",
     "output_type": "stream",
     "text": [
      "4602794736\n",
      "4602797424\n",
      "\n",
      "4602794736\n"
     ]
    },
    {
     "data": {
      "text/plain": [
       "True"
      ]
     },
     "execution_count": 11,
     "metadata": {},
     "output_type": "execute_result"
    }
   ],
   "source": [
    "a = 496\n",
    "b = 5000\n",
    "print(id(a))\n",
    "print(id(b))\n",
    "print('')\n",
    "\n",
    "b = a\n",
    "print(id(b))\n",
    "\n",
    "id(a) == id(b)"
   ]
  },
  {
   "cell_type": "markdown",
   "id": "e6a8c32e",
   "metadata": {},
   "source": [
    "We will implement a class called Person that will have its name as an attribute (variable) and two methods (functions), one of these methods will initialize the name attribute and the following method will display its content on the screen."
   ]
  },
  {
   "cell_type": "code",
   "execution_count": 1,
   "id": "2769aef8",
   "metadata": {},
   "outputs": [
    {
     "name": "stdout",
     "output_type": "stream",
     "text": [
      "Nombre diego\n",
      "Edad 40\n",
      "Is adult\n"
     ]
    }
   ],
   "source": [
    "class Person:\n",
    "\n",
    "    def __init__(self,name,age):\n",
    "        self.name=name\n",
    "        self.age=age\n",
    "\n",
    "    def printer(self):\n",
    "        print(\"Nombre\",self.name)\n",
    "        print(\"Edad\",self.age)\n",
    "\n",
    "    def adult(self):\n",
    "        if self.age>=18:\n",
    "            print(\"Is adult\")\n",
    "        else:\n",
    "            print(\"Is not adult\")\n",
    "\n",
    "\n",
    "# bloque principal\n",
    "\n",
    "persona1=Person()\n",
    "persona1.inicializer(\"diego\",40)\n",
    "persona1.printer()\n",
    "persona1.adult()"
   ]
  },
  {
   "cell_type": "markdown",
   "id": "9a96433b",
   "metadata": {},
   "source": [
    "Develop a program that loads the sides of a triangle and implements the following methods: initialize the attributes, print the value of the longest side, and another method that shows whether it is equilateral or not. Call the class name Triangle. "
   ]
  },
  {
   "cell_type": "code",
   "execution_count": null,
   "id": "4d32525b",
   "metadata": {},
   "outputs": [],
   "source": [
    "class Triangle:\n",
    "\n",
    "    def inicializer(self):\n",
    "        self.lado1=int(input(\"Add first side:\"))\n",
    "        self.lado2=int(input(\"Add second side:\"))\n",
    "        self.lado3=int(input(\"Add third side:\"))\n",
    "\n",
    "    def printer(self):\n",
    "        print(\"Value of triangle side\")\n",
    "        print(\"Side 1\",self.lado1)\n",
    "        print(\"Side 2\",self.lado2)\n",
    "        print(\"Side 3\",self.lado3)\n",
    "\n",
    "    def bigger_side(self):\n",
    "        print(\"Bigger side\")\n",
    "        if self.lado1>self.lado2 and self.lado1>self.lado3:\n",
    "            print(self.lado1)\n",
    "        else:\n",
    "            if self.lado2>self.lado3:\n",
    "                print(self.lado2)\n",
    "            else:\n",
    "                print(self.lado3)\n",
    "\n",
    "    def is_equilateral(self):\n",
    "        if self.lado1==self.lado2 and self.lado1==self.lado3:\n",
    "            print(\"The triangle is equilateral\")\n",
    "        else:\n",
    "            print(\"The triangle is not equilateral\")\n",
    "\n",
    "\n",
    "# bloque principal\n",
    "\n",
    "triangulo1=Triangle()\n",
    "triangulo1.inicializer()\n",
    "triangulo1.printer()\n",
    "triangulo1.bigger_side()\n",
    "triangulo1.is_equilateral()"
   ]
  },
  {
   "cell_type": "markdown",
   "id": "8082ec4c",
   "metadata": {},
   "source": [
    "Make a class that represents an employee. Set as attributes his name and salary. In the __init__ method load the attributes by keyboard and then in another method print your data and finally one that prints a message if you must pay taxes (if the salary exceeds 3000) ¶\n"
   ]
  },
  {
   "cell_type": "code",
   "execution_count": 4,
   "id": "c09b10b6",
   "metadata": {
    "scrolled": true
   },
   "outputs": [
    {
     "name": "stdout",
     "output_type": "stream",
     "text": [
      "Insert employee name:Daniel\n",
      "Insert Salary:4700\n",
      "Name: Daniel\n",
      "Salary: 4700.0\n",
      "Must pay taxes\n"
     ]
    }
   ],
   "source": [
    "class Employee:\n",
    "\n",
    "    def __init__(self):\n",
    "        self.name=input(\"Insert employee name:\")\n",
    "        self.salary=float(input(\"Insert Salary:\"))\n",
    "\n",
    "    def printer(self):\n",
    "        print(\"Name:\",self.name)\n",
    "        print(\"Salary:\",self.salary)\n",
    "\n",
    "    def page_taxes(self):\n",
    "        if self.salary>3000:\n",
    "            print(\"Must pay taxes\")\n",
    "        else:\n",
    "            print(\"Not pay taxes\")\n",
    "\n",
    "\n",
    "# bloque principal\n",
    "\n",
    "employee1=Employee()\n",
    "employee1.printer()\n",
    "employee1.page_taxes()"
   ]
  },
  {
   "cell_type": "markdown",
   "id": "9fc7a4da",
   "metadata": {},
   "source": [
    "Develop a class that represents a Square and has the following methods: initialize the value of the side arriving as a parameter to the __init__ method (define an attribute called side), print its perimeter and its surface."
   ]
  },
  {
   "cell_type": "code",
   "execution_count": 2,
   "id": "25ff777c",
   "metadata": {},
   "outputs": [
    {
     "name": "stdout",
     "output_type": "stream",
     "text": [
      "The perimeter of the square is: 48\n",
      "The area of the square is: 144\n"
     ]
    }
   ],
   "source": [
    "class Square:\n",
    "\n",
    "    def __init__(self,side):\n",
    "        self.side=side\n",
    "\n",
    "    def show_perimeter(self):\n",
    "        per=self.side*4\n",
    "        print(\"The perimeter of the square is:\",per)\n",
    "\n",
    "    def show_area(self):\n",
    "        sup=self.side*self.side\n",
    "        print(\"The area of the square is:\",sup)\n",
    "\n",
    "\n",
    "# bloque principal\n",
    "\n",
    "square1=Square(12)\n",
    "square1.show_perimeter()\n",
    "square1.show_area()\n"
   ]
  },
  {
   "cell_type": "markdown",
   "id": "2bb8715a",
   "metadata": {},
   "source": [
    "Implement the Operations class. Two integer values ​​must be loaded by keyboard in the __init__ method, calculate their addition, subtraction, multiplication and division, each one in a method, print these results."
   ]
  },
  {
   "cell_type": "code",
   "execution_count": 5,
   "id": "e4819994",
   "metadata": {},
   "outputs": [
    {
     "name": "stdout",
     "output_type": "stream",
     "text": [
      "Insert first value:90\n",
      "Insert second value:9\n",
      "The sum is  99\n",
      "The substraction is  81\n",
      "The multiplication is 810\n",
      "The division is 10.0\n"
     ]
    }
   ],
   "source": [
    "class Operation:\n",
    "\n",
    "    def __init__(self):\n",
    "        self.value1=int(input(\"Insert first value:\"))\n",
    "        self.value2=int(input(\"Insert second value:\"))\n",
    "\n",
    "    def sum(self):\n",
    "        su=self.value1+self.value2\n",
    "        print(\"The sum is \",su)\n",
    "\n",
    "    def substraction(self):\n",
    "        re=self.value1-self.value2\n",
    "        print(\"The substraction is \",re)\n",
    "\n",
    "    def multiplication(self):\n",
    "        pro=self.value1*self.value2\n",
    "        print(\"The multiplication is\",pro)\n",
    "\n",
    "    def division(self):\n",
    "        divi=self.value1/self.value2\n",
    "        print(\"The division is\",divi)\n",
    "\n",
    "\n",
    "# bloque principal\n",
    "\n",
    "operation1=Operation()\n",
    "operation1.sum()\n",
    "operation1.substraction()\n",
    "operation1.multiplication()\n",
    "operation1.division()\n"
   ]
  },
  {
   "cell_type": "markdown",
   "id": "62d559e2",
   "metadata": {},
   "source": [
    "A bank has 3 clients who can make deposits and withdrawals. The bank also requires that at the end of the day you calculate the amount of money you have deposited.\n",
    "\n",
    "The first thing we do is identify the classes:\n",
    "\n",
    "We can identify the Customer class and the Bank class.\n",
    "\n",
    "Then we must define the attributes and methods of each class:"
   ]
  },
  {
   "cell_type": "code",
   "execution_count": 8,
   "id": "3e7ab671",
   "metadata": {},
   "outputs": [
    {
     "name": "stdout",
     "output_type": "stream",
     "text": [
      "The total money in the bank is: 300\n",
      "Juan has deposited the sum of 100\n",
      "Ana has deposited the sum of 150\n",
      "Diego has deposited the sum of 50\n"
     ]
    }
   ],
   "source": [
    "class Client:\n",
    "\n",
    "    def __init__(self,name):\n",
    "        self.name=name\n",
    "        self.amount=0\n",
    "\n",
    "    def deposit(self,amount):\n",
    "        self.amount=self.amount+amount\n",
    "\n",
    "    def extraction(self,amount):\n",
    "        self.amount=self.amount-amount\n",
    "\n",
    "    def return_amount(self):\n",
    "        return self.amount\n",
    "\n",
    "    def printer(self):\n",
    "        print(self.name,\"has deposited the sum of\",self.amount)\n",
    "\n",
    "\n",
    "class Bank:\n",
    "\n",
    "    def __init__(self):\n",
    "        self.client1=Client(\"Juan\")\n",
    "        self.client2=Client(\"Ana\")\n",
    "        self.client3=Client(\"Diego\")\n",
    "\n",
    "    def operation(self):\n",
    "        self.client1.deposit(100)\n",
    "        self.client2.deposit(150)\n",
    "        self.client3.deposit(200)\n",
    "        self.client3.extraction(150)\n",
    "\n",
    "    def total_deposit(self):\n",
    "        total=self.client1.return_amount()+self.client2.return_amount()+self.client3.return_amount()\n",
    "        print(\"The total money in the bank is:\",total)\n",
    "        self.client1.printer()\n",
    "        self.client2.printer()\n",
    "        self.client3.printer()\n",
    "\n",
    "\n",
    "# bloque principal        \n",
    "\n",
    "banco1=Bank()\n",
    "banco1.operation()\n",
    "banco1.total_deposit()"
   ]
  },
  {
   "cell_type": "markdown",
   "id": "1d2075f8",
   "metadata": {},
   "source": [
    "Create a Club class and another Partner class.\n",
    "The Member class must have the following attributes: name and seniority in the club (in years).\n",
    "In the __init__ method of the Partner class, request the keyboard loading of the name and its age.\n",
    "The Club class must have 3 objects of the Partner class as attributes.\n",
    "Define a responsibility to print the name of the longest-serving club member."
   ]
  },
  {
   "cell_type": "code",
   "execution_count": 10,
   "id": "144f0921",
   "metadata": {},
   "outputs": [
    {
     "name": "stdout",
     "output_type": "stream",
     "text": [
      "Enter the name of partner:clas\n",
      "Enter the antiquity:10\n",
      "Enter the name of partner:class\n",
      "Enter the antiquity:20\n",
      "Enter the name of partner:jers\n",
      "Enter the antiquity:60\n",
      "Partner with bigger antiquity\n",
      "jers has an antiquity of 60\n"
     ]
    }
   ],
   "source": [
    "class Partner:\n",
    "\n",
    "    def __init__(self):\n",
    "        self.name=input(\"Enter the name of partner:\")\n",
    "        self.antiquity=int(input(\"Enter the antiquity:\"))\n",
    "\n",
    "    def printer(self):\n",
    "        print(self.name,\"has an antiquity of\",self.antiquity)\n",
    "\n",
    "    def return_antiquity(self):\n",
    "        return self.antiquity\n",
    "\n",
    "\n",
    "class Club:\n",
    "\n",
    "    def __init__(self):\n",
    "        self.partner1=Partner()\n",
    "        self.partner2=Partner()\n",
    "        self.partner3=Partner()\n",
    "\n",
    "    def the_older(self):\n",
    "        print(\"Partner with bigger antiquity\")\n",
    "        if (self.partner1.return_antiquity()>self.partner2.return_antiquity() and\n",
    "            self.partner1.return_antiquity()>self.partner3.return_antiquity()):\n",
    "            self.partner1.printer()\n",
    "        else:\n",
    "            if self.partner2.return_antiquity()>self.partner3.return_antiquity():\n",
    "                self.partner2.printer()\n",
    "            else:\n",
    "                self.partner3.printer()\n",
    "        \n",
    "\n",
    "# bloque principal\n",
    "\n",
    "club=Club()\n",
    "club.the_older()"
   ]
  },
  {
   "cell_type": "markdown",
   "id": "11e341bf",
   "metadata": {},
   "source": [
    "Create a Person class that contains two attributes: name and age. Define keyboard loading and printing as responsibilities.\n",
    "In the main block of the program define an object of the class person and call its methods.\n",
    "\n",
    "Declare a second class called Employee that inherits from the Person class and adds a salary attribute and shows if it must pay taxes (salary greater than 3000)\n",
    "Also in the main block of the program create an object of the class Employee."
   ]
  },
  {
   "cell_type": "code",
   "execution_count": 16,
   "id": "4f43a3ce",
   "metadata": {},
   "outputs": [
    {
     "name": "stdout",
     "output_type": "stream",
     "text": [
      "Enter the name:Daniel\n",
      "Enter the age:36\n",
      "Name: Daniel\n",
      "Age: 36\n",
      "____________________________\n",
      "Enter the name:Jhanna\n",
      "Enter the age:28\n",
      "Enter the salary:40000\n",
      "Name: Jhanna\n",
      "Age: 28\n",
      "Sueldo: 40000.0\n",
      "The employee must be pay taxes\n"
     ]
    }
   ],
   "source": [
    "class Person:\n",
    "\n",
    "    def __init__(self):\n",
    "        self.name=input(\"Enter the name:\")\n",
    "        self.age=int(input(\"Enter the age:\"))\n",
    "\n",
    "    def printer(self):\n",
    "        print(\"Name:\",self.name)\n",
    "        print(\"Age:\",self.age)\n",
    "\n",
    "\n",
    "class Employee(Person):\n",
    "\n",
    "    def __init__(self):\n",
    "        super().__init__()\n",
    "        self.salary=float(input(\"Enter the salary:\"))\n",
    "\n",
    "    def printer(self):\n",
    "        super().printer()\n",
    "        print(\"Sueldo:\",self.salary)\n",
    "\n",
    "    def pay_taxes(self):\n",
    "        if self.salary>3000:\n",
    "            print(\"The employee must be pay taxes\")\n",
    "        else:\n",
    "            print(\"Not pay taxes\")\n",
    "\n",
    "\n",
    "# bloque principal\n",
    "\n",
    "person1=Person()\n",
    "person1.printer()\n",
    "print(\"____________________________\")\n",
    "empleado1=Employee()\n",
    "empleado1.printer()\n",
    "empleado1.pay_taxes()"
   ]
  },
  {
   "cell_type": "markdown",
   "id": "c95a29dc",
   "metadata": {},
   "source": [
    "Now we will pose another problem using inheritance. Suppose we need to implement two classes that we will call Addition and Subtraction. Each class has value1, value2 and result as attributes. The methods to define are load1 (which initializes the value1 attribute), load2 (which initializes the value2 attribute), operate (which in the case of the \"Sum\" class adds the two attributes and in the case of the \"Subtraction\" class does the difference between value1 and value2), and another show_result method.\n",
    "\n",
    "If we analyze both classes we find that many attributes and methods are identical. In these cases it is good to define a parent class that groups these common attributes and responsibilities.\n",
    "\n",
    "Only the operate method is different for the Addition and Subtraction classes (this means that we cannot have it in the Operation class in principle), then the load1, load2 and show_result methods are identical to the two classes, this means that we can arrange them in the Operation class. The same attributes value1, value2 and result will be defined in the parent class Operation."
   ]
  },
  {
   "cell_type": "code",
   "execution_count": 1,
   "id": "b392a2a0",
   "metadata": {},
   "outputs": [
    {
     "name": "stdout",
     "output_type": "stream",
     "text": [
      "Insert first value:10\n",
      "Insert second value:8\n",
      "La suma de los dos valores es\n",
      "18\n",
      "Insert first value:6\n",
      "Insert second value:2\n",
      "La resta de los valores es:\n",
      "4\n"
     ]
    }
   ],
   "source": [
    "class Operation:\n",
    "\n",
    "    def __init__(self):\n",
    "        self.value1=0\n",
    "        self.value2=0\n",
    "        self.result=0\n",
    "\n",
    "    def load1(self):\n",
    "        self.value1=int(input(\"Insert first value:\"))\n",
    "\n",
    "    def load2(self):\n",
    "        self.value2=int(input(\"Insert second value:\"))\n",
    "\n",
    "    def show_result(self):\n",
    "        print(self.result)\n",
    "\n",
    "    def operate(self):\n",
    "        pass\n",
    "\n",
    "\n",
    "class Sum(Operation):\n",
    "\n",
    "    def operate(self):\n",
    "        self.result=self.value1+self.value2\n",
    "\n",
    "\n",
    "class Substraction(Operation):\n",
    "\n",
    "    def operate(self):\n",
    "        self.result=self.value1-self.value2\n",
    "\n",
    "\n",
    "# bloque princpipal\n",
    "\n",
    "suma1=Sum()\n",
    "suma1.load1()\n",
    "suma1.load2()\n",
    "suma1.operate()\n",
    "print(\"La suma de los dos valores es\")\n",
    "suma1.show_result()\n",
    "\n",
    "resta1=Substraction()\n",
    "resta1.load1()\n",
    "resta1.load2()\n",
    "resta1.operate()\n",
    "print(\"La resta de los valores es:\")\n",
    "resta1.show_result()"
   ]
  }
 ],
 "metadata": {
  "kernelspec": {
   "display_name": "Python 3 (ipykernel)",
   "language": "python",
   "name": "python3"
  },
  "language_info": {
   "codemirror_mode": {
    "name": "ipython",
    "version": 3
   },
   "file_extension": ".py",
   "mimetype": "text/x-python",
   "name": "python",
   "nbconvert_exporter": "python",
   "pygments_lexer": "ipython3",
   "version": "3.8.5"
  }
 },
 "nbformat": 4,
 "nbformat_minor": 5
}
