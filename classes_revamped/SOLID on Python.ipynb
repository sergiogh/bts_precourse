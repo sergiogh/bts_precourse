{
 "cells": [
  {
   "cell_type": "markdown",
   "source": [
    "## Welcome to SOLID Principles\n",
    "\n",
    "Writing good code since the 2000's\n",
    "\n",
    "1. *S*ingle Responsibility Principle\n",
    "2. *O*pen and Closed Principle\n",
    "3. *L*isvok Sub situation Principle\n",
    "4. *I*nterface Segregation Principle\n",
    "5. *D*ependency Inversion Principle\n",
    "\n",
    "The SOLID principles were defined in the early 2000s by Robert C. Martin (Uncle Bob). Uncle Bob elaborated some of these and identified others already existing and said that these principles should be used to get good management of dependencies in our code.\n",
    "Why do you need to know?\n",
    "\n",
    "1. Easy to understand the codebase\n",
    "2. Easy to extend\n",
    "3. Easy to maintain the codebase\n",
    "4. Robust code\n",
    "5. Minimum changing existing codebase or not at all."
   ],
   "metadata": {}
  },
  {
   "cell_type": "markdown",
   "source": [
    "## Single Responsibility Principle(SRP):\n",
    "A class should have only one responsibility and only one reason to change. That means a class does not perform multiple jobs.\n",
    "\n"
   ],
   "metadata": {}
  },
  {
   "cell_type": "code",
   "execution_count": 1,
   "source": [
    "## BAD\n",
    "class Account:\n",
    "    def __init__(self, account_no: str):\n",
    "        self.account_no = account_no\n",
    "    def get_account_number(self):\n",
    "        return self.account_no\n",
    "    def save(self):\n",
    "        pass"
   ],
   "outputs": [],
   "metadata": {}
  },
  {
   "cell_type": "code",
   "execution_count": 2,
   "source": [
    "## BETTER\n",
    "\n",
    "class AccountDB:\n",
    "    def get_account_number(self, _id):\n",
    "        pass\n",
    "    def account_save(self, obj):\n",
    "        pass\n",
    "\n",
    "class Account:\n",
    "\n",
    "    def __init__(self, account_no: str):\n",
    "        self.account_no = account_no\n",
    "        self._db = AccountDB()\n",
    "\n",
    "    def get_account_number(self):\n",
    "        return self.account_no\n",
    "\n",
    "    def get(self, _id):\n",
    "        return self._db.get_account_number(_id=_id)\n",
    "\n",
    "    def save(self):\n",
    "        self._db.account_save(obj=self)"
   ],
   "outputs": [],
   "metadata": {}
  },
  {
   "cell_type": "markdown",
   "source": [
    "## Open and Closed Principle(OCP):\n",
    "\n",
    "Software entities (classes, function, module) open for extension, but not for modification (or closed for modification)"
   ],
   "metadata": {}
  },
  {
   "cell_type": "code",
   "execution_count": 92,
   "source": [
    "## BAD\n",
    "\n",
    "class Discount:\n",
    "    def __init__(self, customer, price):\n",
    "        self.customer = customer\n",
    "        self.price = price\n",
    "    def give_discount(self):\n",
    "        if self.customer == 'fav':\n",
    "            return self.price * 0.2\n",
    "        if self.customer == 'vip':\n",
    "            return self.price * 0.4\n",
    "        if self.customer == 'ultravip':\n",
    "            return self.price * 0.6\n",
    "        \n",
    "discount_for_sergio = Discount('ultravip', 100)\n",
    "print(discount_for_sergio.give_discount())"
   ],
   "outputs": [
    {
     "output_type": "stream",
     "name": "stdout",
     "text": [
      "50.0\n"
     ]
    }
   ],
   "metadata": {}
  },
  {
   "cell_type": "code",
   "execution_count": 96,
   "source": [
    "## BETTER\n",
    "\n",
    "class Discount:\n",
    "    def __init__(self, customer, price):\n",
    "        self.customer = customer\n",
    "        self.price = price\n",
    "    def get_discount(self):\n",
    "        return self.price * 0.2\n",
    "class VIPDiscount(Discount):\n",
    "    def get_discount(self):\n",
    "        return super().get_discount() * 2\n",
    "    \n",
    "discount_for_sergio = VIPDiscount('vip', 100)\n",
    "print(discount_for_sergio.get_discount())\n",
    "\n",
    "discount_for_philip = Discount('vip', 100)\n",
    "discount_for_philip.get_discount()"
   ],
   "outputs": [
    {
     "output_type": "stream",
     "name": "stdout",
     "text": [
      "40.0\n"
     ]
    },
    {
     "output_type": "execute_result",
     "data": {
      "text/plain": [
       "20.0"
      ]
     },
     "metadata": {},
     "execution_count": 96
    }
   ],
   "metadata": {}
  },
  {
   "cell_type": "code",
   "execution_count": 102,
   "source": [
    "## New Discount with 80% Discount!\n",
    "class SuperVIPDiscount(VIPDiscount):\n",
    "    def get_discount(self):\n",
    "        return super().get_discount() * 2\n",
    "    \n",
    "discount_for_philip = Discount('vip', 100)\n",
    "print(discount_for_philip.get_discount())\n",
    "\n",
    "discount_for_sergio = VIPDiscount('vip', 100)\n",
    "print(discount_for_sergio.get_discount())\n",
    "\n",
    "discount_for_guille = SuperVIPDiscount('vip', 100)\n",
    "print(discount_for_guille.get_discount())\n"
   ],
   "outputs": [
    {
     "output_type": "stream",
     "name": "stdout",
     "text": [
      "20.0\n",
      "40.0\n",
      "80.0\n"
     ]
    }
   ],
   "metadata": {}
  },
  {
   "cell_type": "markdown",
   "source": [
    "## Liskov Substitution Principle(LSP):\n",
    "Let φ(x) be a property provable about objects x of type T. Then φ(y) should be true for objects y of type S where S is a subtype of T.\n",
    "More formally, this is the original definition (LISKOV 01) of Liskov’s substitution principle: if S is a subtype of T, then objects of type T may be replaced by objects of type S, without breaking the program.\n",
    "\n",
    "In plan english:\n",
    "\"A subclass, child or specialization of an object or class must be suitable by its Parent or SuperClass.\""
   ],
   "metadata": {}
  },
  {
   "cell_type": "code",
   "execution_count": 105,
   "source": [
    "## Bad - A Bicycle can't start the engine\n",
    "\n",
    "class Vehicle:\n",
    "\n",
    "    def __init__(self, name, speed):\n",
    "        self.name = name\n",
    "        self.speed = speed\n",
    "\n",
    "    def get_name(self):\n",
    "        return f\"The vehicle name {self.name}\"\n",
    "\n",
    "    def get_speed(self):\n",
    "        return f\"The vehicle speed {self.speed}\"\n",
    "\n",
    "    def engine(self):\n",
    "        return \"Brrrmmmm!!!\"\n",
    "\n",
    "    def start_engine(self):\n",
    "        return self.engine()\n",
    "\n",
    "\n",
    "class Car(Vehicle):\n",
    "    pass\n",
    "#def start_engine(self):\n",
    "#    pass\n",
    "\n",
    "class Bicycle(Vehicle):\n",
    "    def start_engine(self):\n",
    "        print(\"Im hacking my class, I don't really have an engine!!\")\n",
    "        pass\n",
    "    \n",
    "my_car = Car(\"Toyota\", 100.10)\n",
    "print(my_car.get_name())\n",
    "print(my_car.start_engine())\n",
    "\n",
    "my_bicycle = Bicycle(\"bike bike bike\", 10)\n",
    "print(my_bicycle.get_name())\n",
    "print(my_bicycle.start_engine())"
   ],
   "outputs": [
    {
     "output_type": "stream",
     "name": "stdout",
     "text": [
      "The vehicle name Toyota\n",
      "Brrrmmmm!!!\n",
      "The vehicle name bike bike bike\n",
      "Im hacking my class, I don't really have an engine!!\n",
      "None\n"
     ]
    }
   ],
   "metadata": {}
  },
  {
   "cell_type": "code",
   "execution_count": 115,
   "source": [
    "## Better - It is a kind of Polymorphism\n",
    "\n",
    "class Vehicle:\n",
    "    def __init__(self, name, speed):\n",
    "        self.name = name\n",
    "        self.speed = speed\n",
    "    def get_name(self):\n",
    "        return f\"The vehicle name {self.name}\"\n",
    "    def get_speed(self):\n",
    "        return f\"The vehicle speed {self.speed}\"\n",
    "    \n",
    "class VehicleWithoutEngine(Vehicle):\n",
    "    def start_moving(self):\n",
    "        raise NotImplemented\n",
    "        \n",
    "    def standing_device(self):\n",
    "        raise NotImplemented\n",
    "        \n",
    "class VehicleWithEngine(Vehicle):\n",
    "    def engine(self):\n",
    "        pass\n",
    "    def start_engine(self):\n",
    "        self.engine()\n",
    "        print(\"Brrrmmmm\")\n",
    "        \n",
    "class Car(VehicleWithEngine):\n",
    "    pass\n",
    "    \n",
    "class Bicycle(VehicleWithoutEngine):\n",
    "    def start_moving(self):\n",
    "        print(\"pedalea pedalaa\")\n",
    "        \n",
    "    def standing_device(self):\n",
    "        print(\"Kickstand\")\n",
    "        \n",
    "class Skateboard(VehicleWithoutEngine):\n",
    "    def start_moving(self):\n",
    "        print(\"Im Tony Hawk!!\")\n",
    "    \n",
    "my_car = Car(\"Toyota\", 100.10)\n",
    "print(my_car.get_name())\n",
    "print(my_car.start_engine())\n",
    "\n",
    "my_bicycle = Bicycle(\"bike bike bike\", 10)\n",
    "print(my_bicycle.get_name())\n",
    "print(my_bicycle.start_moving())\n",
    "\n",
    "my_skate = Skateboard(\"skating!\", 15)\n",
    "print(my_skate.get_name())\n",
    "print(my_skate.start_moving())\n",
    "\n",
    "my_bicycle.standing_device()"
   ],
   "outputs": [
    {
     "output_type": "stream",
     "name": "stdout",
     "text": [
      "The vehicle name Toyota\n",
      "Brrrmmmm\n",
      "None\n",
      "The vehicle name bike bike bike\n",
      "pedalea pedalaa\n",
      "None\n",
      "The vehicle name skating!\n",
      "Im Tony Hawk!!\n",
      "None\n",
      "Kickstand\n"
     ]
    }
   ],
   "metadata": {}
  },
  {
   "cell_type": "code",
   "execution_count": 119,
   "source": [
    "## Another Liskov Example\n",
    "\n",
    "class Rectangle(object):\n",
    "\n",
    "    def getWidth(self):\n",
    "        return _width\n",
    "\n",
    "    def setWidth(self, width):\n",
    "        self._width = width\n",
    "\n",
    "    def getHeight(self):\n",
    "        return _height\n",
    "\n",
    "    def setHeight(self, height):\n",
    "        self._height = height\n",
    "\n",
    "    def calculateArea(self):\n",
    "        return self._width * self._height;\n",
    "\n",
    "class Square(Rectangle):\n",
    "    def setWidth(self, width):\n",
    "        self._width = width\n",
    "        self._height = width\n",
    "\n",
    "    def setHeight(self, height):\n",
    "        self._height = height\n",
    "        self._width = height\n",
    "        \n",
    "my_square = Square()\n",
    "my_square.setHeight(10)\n",
    "print(my_square.calculateArea())\n",
    "\n",
    "class TestRectangle():\n",
    "\n",
    "    def setUp(self):\n",
    "        pass\n",
    "\n",
    "    def test_calculateArea(self):\n",
    "        #r = Rectangle()\n",
    "        r = Square()\n",
    "        r.setWidth(5);\n",
    "        r.setHeight(4);\n",
    "        if(r.calculateArea() == 20):\n",
    "            print(\"Test passed\")\n",
    "        else:\n",
    "            print(\"Test failed\")\n",
    "            \n",
    "            \n",
    "test = TestRectangle()\n",
    "test.test_calculateArea()"
   ],
   "outputs": [
    {
     "output_type": "stream",
     "name": "stdout",
     "text": [
      "100\n",
      "Test failed\n"
     ]
    }
   ],
   "metadata": {}
  },
  {
   "cell_type": "markdown",
   "source": [
    "## Interface Segregation Principle(ISP):\n",
    "A client should not be forced to implement an interface that it does not use"
   ],
   "metadata": {}
  },
  {
   "cell_type": "code",
   "execution_count": 121,
   "source": [
    "## Bad\n",
    "\n",
    "class Shape:\n",
    "    def draw_circle(self):\n",
    "        raise NotImplemented\n",
    "    def draw_square(self):\n",
    "        raise NotImplemented\n",
    "        \n",
    "class Circle(Shape):\n",
    "    def draw_circle(self):\n",
    "        print(\"Drawing Circle\")\n",
    "    def draw_square(self):\n",
    "        print(\"Drawing Square\")\n",
    "        \n",
    "class Square(Shape):\n",
    "    def draw_square(self):\n",
    "        print(\"Drawing Square\")\n",
    "    \n",
    "circle = Circle()\n",
    "square = Square()\n",
    "\n",
    "square.draw_square()\n",
    "\n",
    "square.draw_circle()"
   ],
   "outputs": [
    {
     "output_type": "stream",
     "name": "stdout",
     "text": [
      "Drawing Square\n"
     ]
    },
    {
     "output_type": "error",
     "ename": "TypeError",
     "evalue": "exceptions must derive from BaseException",
     "traceback": [
      "\u001b[0;31m---------------------------------------------------------------------------\u001b[0m",
      "\u001b[0;31mTypeError\u001b[0m                                 Traceback (most recent call last)",
      "\u001b[0;32m<ipython-input-121-fa8f114eb825>\u001b[0m in \u001b[0;36m<module>\u001b[0;34m\u001b[0m\n\u001b[1;32m     22\u001b[0m \u001b[0msquare\u001b[0m\u001b[0;34m.\u001b[0m\u001b[0mdraw_square\u001b[0m\u001b[0;34m(\u001b[0m\u001b[0;34m)\u001b[0m\u001b[0;34m\u001b[0m\u001b[0;34m\u001b[0m\u001b[0m\n\u001b[1;32m     23\u001b[0m \u001b[0;34m\u001b[0m\u001b[0m\n\u001b[0;32m---> 24\u001b[0;31m \u001b[0msquare\u001b[0m\u001b[0;34m.\u001b[0m\u001b[0mdraw_circle\u001b[0m\u001b[0;34m(\u001b[0m\u001b[0;34m)\u001b[0m\u001b[0;34m\u001b[0m\u001b[0;34m\u001b[0m\u001b[0m\n\u001b[0m",
      "\u001b[0;32m<ipython-input-121-fa8f114eb825>\u001b[0m in \u001b[0;36mdraw_circle\u001b[0;34m(self)\u001b[0m\n\u001b[1;32m      3\u001b[0m \u001b[0;32mclass\u001b[0m \u001b[0mShape\u001b[0m\u001b[0;34m:\u001b[0m\u001b[0;34m\u001b[0m\u001b[0;34m\u001b[0m\u001b[0m\n\u001b[1;32m      4\u001b[0m     \u001b[0;32mdef\u001b[0m \u001b[0mdraw_circle\u001b[0m\u001b[0;34m(\u001b[0m\u001b[0mself\u001b[0m\u001b[0;34m)\u001b[0m\u001b[0;34m:\u001b[0m\u001b[0;34m\u001b[0m\u001b[0;34m\u001b[0m\u001b[0m\n\u001b[0;32m----> 5\u001b[0;31m         \u001b[0;32mraise\u001b[0m \u001b[0mNotImplemented\u001b[0m\u001b[0;34m\u001b[0m\u001b[0;34m\u001b[0m\u001b[0m\n\u001b[0m\u001b[1;32m      6\u001b[0m     \u001b[0;32mdef\u001b[0m \u001b[0mdraw_square\u001b[0m\u001b[0;34m(\u001b[0m\u001b[0mself\u001b[0m\u001b[0;34m)\u001b[0m\u001b[0;34m:\u001b[0m\u001b[0;34m\u001b[0m\u001b[0;34m\u001b[0m\u001b[0m\n\u001b[1;32m      7\u001b[0m         \u001b[0;32mraise\u001b[0m \u001b[0mNotImplemented\u001b[0m\u001b[0;34m\u001b[0m\u001b[0;34m\u001b[0m\u001b[0m\n",
      "\u001b[0;31mTypeError\u001b[0m: exceptions must derive from BaseException"
     ]
    }
   ],
   "metadata": {}
  },
  {
   "cell_type": "code",
   "execution_count": 124,
   "source": [
    "## BETTER\n",
    "\n",
    "class IShape:\n",
    "    def draw(self):\n",
    "        raise NotImplementedError\n",
    "\n",
    "class Circle(IShape):\n",
    "    def draw(self):\n",
    "        print(\"Draw Circle\")\n",
    "\n",
    "class Square(IShape):\n",
    "    def draw(self):\n",
    "        print(\"Draw Square\")\n",
    "\n",
    "class Rectangle(IShape):\n",
    "    def draw(self):\n",
    "        print(\"Draw Rectangle\")\n",
    "        \n",
    "shape = Square()\n",
    "shape.draw()"
   ],
   "outputs": [
    {
     "output_type": "stream",
     "name": "stdout",
     "text": [
      "Draw Square\n"
     ]
    }
   ],
   "metadata": {}
  },
  {
   "cell_type": "markdown",
   "source": [
    "## Dependency Inversion Principle (DIP):\n",
    "a. High-level modules should not depend on low-level modules. Both should depend on abstractions.\n",
    "b. Abstractions should not depend on details. Details should depend on abstractions."
   ],
   "metadata": {}
  },
  {
   "cell_type": "code",
   "execution_count": 83,
   "source": [
    "class BackendDeveloper:\n",
    "    @staticmethod\n",
    "    def python():\n",
    "        print(\"Writing Python code\")\n",
    "        \n",
    "class FrontendDeveloper:\n",
    "    @staticmethod\n",
    "    def javascript():\n",
    "        print(\"Writing JavaScript code\")\n",
    "        \n",
    "class Project:\n",
    "    def __init__(self, type_of_project):\n",
    "        if(type_of_project == \"only_backend\"):\n",
    "            self.backend = BackendDeveloper()\n",
    "        else:\n",
    "            self.backend = BackendDeveloper()\n",
    "            self.frontend = FrontendDeveloper()\n",
    "    def develop(self):\n",
    "        self.backend.python()\n",
    "        self.frontend.javascript()\n",
    "        return \"Develop codebase\"\n",
    "    \n",
    "project = Project()\n",
    "project.develop()"
   ],
   "outputs": [
    {
     "output_type": "stream",
     "name": "stdout",
     "text": [
      "Writing Python code\n",
      "Writing JavaScript code\n"
     ]
    },
    {
     "output_type": "execute_result",
     "data": {
      "text/plain": [
       "'Develop codebase'"
      ]
     },
     "metadata": {},
     "execution_count": 83
    }
   ],
   "metadata": {}
  },
  {
   "cell_type": "code",
   "execution_count": 84,
   "source": [
    "# BETTER\n",
    "\n",
    "class BackendDeveloper:\n",
    "    def develop(self):\n",
    "        self.__python_code()\n",
    "    @staticmethod\n",
    "    def __python_code():\n",
    "        print(\"Writing Python code\")\n",
    "        \n",
    "class FrontendDeveloper:\n",
    "    def develop(self):\n",
    "        self.__javascript()\n",
    "    @staticmethod\n",
    "    def __javascript():\n",
    "        print(\"Writing JavaScript code\")\n",
    "        \n",
    "class Developers:\n",
    "    def __init__(self):\n",
    "        self.backend = BackendDeveloper()\n",
    "        self.frontend = FrontendDeveloper()\n",
    "    def develop(self):\n",
    "        self.backend.develop()\n",
    "        self.frontend.develop()\n",
    "        return \"Develop codebase\"\n",
    "        \n",
    "class Project:\n",
    "    def __init__(self):\n",
    "        self.__developers = Developers()\n",
    "    def develops(self):\n",
    "        return self.__developers.develop()\n",
    "\n",
    "project = Project()\n",
    "project.develops()"
   ],
   "outputs": [
    {
     "output_type": "stream",
     "name": "stdout",
     "text": [
      "Writing Python code\n",
      "Writing JavaScript code\n"
     ]
    },
    {
     "output_type": "execute_result",
     "data": {
      "text/plain": [
       "'Develop codebase'"
      ]
     },
     "metadata": {},
     "execution_count": 84
    }
   ],
   "metadata": {}
  },
  {
   "cell_type": "code",
   "execution_count": 126,
   "source": [
    "## EVEN BETTER\n",
    "\n",
    "# BETTER\n",
    "\n",
    "class BackendDeveloper:\n",
    "    def develop(self):\n",
    "        self.__python_code()\n",
    "    @staticmethod\n",
    "    def __python_code():\n",
    "        print(\"Writing Python code\")\n",
    "        \n",
    "class FrontendDeveloper:\n",
    "    def develop(self):\n",
    "        self.__javascript()\n",
    "    @staticmethod\n",
    "    def __javascript():\n",
    "        print(\"Writing JavaScript code\")\n",
    "        \n",
    "class MobileDeveloper:\n",
    "    def develop(self):\n",
    "        self.__android()\n",
    "    @staticmethod\n",
    "    def __android():\n",
    "        print(\"Writing Java code for android\")\n",
    "        \n",
    "class Developers:\n",
    "    def __init__(self, frontend, backend):\n",
    "        self.backend = backend\n",
    "        self.frontend = frontend\n",
    "    def develop(self):\n",
    "        self.backend.develop()\n",
    "        self.frontend.develop()\n",
    "        return \"Develop codebase\"\n",
    "        \n",
    "class Project:\n",
    "    def __init__(self, frontend, backend):\n",
    "        self.__developers = Developers(frontend, backend)\n",
    "    def develops(self):\n",
    "        return self.__developers.develop()\n",
    "\n",
    "frontend_dev = FrontendDeveloper()\n",
    "backend_dev = BackendDeveloper() \n",
    "mobile_dev = MobileDeveloper()\n",
    "\n",
    "project1 = Project(frontend_dev, backend_dev)\n",
    "project1.develops()\n",
    "\n",
    "project2 = Project(mobile_dev, backend_dev)\n",
    "project2.develops()\n",
    "\n"
   ],
   "outputs": [
    {
     "output_type": "stream",
     "name": "stdout",
     "text": [
      "Writing Python code\n",
      "Writing JavaScript code\n",
      "Writing Python code\n",
      "Writing Java code for android\n"
     ]
    },
    {
     "output_type": "execute_result",
     "data": {
      "text/plain": [
       "'Develop codebase'"
      ]
     },
     "metadata": {},
     "execution_count": 126
    }
   ],
   "metadata": {}
  },
  {
   "cell_type": "code",
   "execution_count": 128,
   "source": [
    "## Bad example. No SRP and No DIP\n",
    "# Vehicle does 3 things. Store things (MySQL)), present things (print), and do business logic (max speed)\n",
    "# Also Vehicle depends on a lower class (Engine) which couples the system and makes it difficult to test and maintain\n",
    "\n",
    "class Vehicle(object):\n",
    "    def __init__(self, name):\n",
    "        self._name = name\n",
    "        #self._persistence = MySQLdb.connect()\n",
    "        self._engine = Engine()\n",
    "\n",
    "    def getName(self):\n",
    "        return self._name\n",
    "\n",
    "    def getEngineRPM(self):\n",
    "        return self._engine.getRPM()\n",
    "\n",
    "    def getMaxSpeed(self):\n",
    "        return self._speed\n",
    "\n",
    "    def print_car_details(self):\n",
    "        return print(\"Vehicle: {}, Max Speed: {}, RMP: {}\").format(self._name, self._speed, self._engine.getRPM())\n",
    "    \n",
    "class Engine(object):\n",
    "    def __init__(self):\n",
    "        pass\n",
    "\n",
    "    def accelerate(self):\n",
    "        pass\n",
    "\n",
    "    def getRPM(self):\n",
    "        currentRPM = 2000\n",
    "        return currentRPM\n",
    "\n",
    "my_car = Vehicle(\"Toyota\")\n",
    "print(my_car.getName())\n",
    "print(my_car.getEngineRPM())"
   ],
   "outputs": [
    {
     "output_type": "stream",
     "name": "stdout",
     "text": [
      "Toyota\n",
      "2000\n"
     ]
    }
   ],
   "metadata": {}
  },
  {
   "cell_type": "code",
   "execution_count": 129,
   "source": [
    "## Better\n",
    "# Note that now VehicleRepository and VehiclePrinter do one single thing. And only one (SPR)\n",
    "# Note that we decouple Engine (lower level) from Vehicle (higher level) so we inverse the dependency\n",
    "\n",
    "class Vehicle(object):\n",
    "    def __init__(self, name, engine):\n",
    "        self._name = name\n",
    "        self._engine = engine\n",
    "\n",
    "    def getName(self):\n",
    "        return self._name\n",
    "\n",
    "    def getEngineRPM(self):\n",
    "        return self._engine.getRPM()\n",
    "\n",
    "    def getMaxSpeed(self):\n",
    "        return self._speed\n",
    "\n",
    "\n",
    "class VehicleRepository(object):\n",
    "    def __init__(self, vehicle, db):\n",
    "        self._persistence = db\n",
    "        self._vehicle = vehicle\n",
    "\n",
    "\n",
    "class VehiclePrinter(object):\n",
    "    def __init__(self, vehicle, db):\n",
    "        self._persistence = db\n",
    "        self._vehicle = vehicle\n",
    "\n",
    "    def print_car_details(self):\n",
    "        return print(\"Vehicle: {}, Max Speed: {}, RMP: {}\").format(self._vehicle.getName(), self._vehicle.getMaxSpeed(), self._vehicle.getRPM())\n",
    "    \n",
    "class Engine(object):\n",
    "    def __init__(self):\n",
    "        pass\n",
    "\n",
    "    def accelerate(self):\n",
    "        pass\n",
    "\n",
    "    def getRPM(self):\n",
    "        currentRPM = 2000\n",
    "        return currentRPM\n",
    "\n",
    "\n",
    "engine = Engine()\n",
    "my_car = Vehicle(\"Toyota\", engine)\n",
    "print(my_car.getName())\n",
    "print(my_car.getEngineRPM())"
   ],
   "outputs": [
    {
     "output_type": "stream",
     "name": "stdout",
     "text": [
      "Toyota\n",
      "2000\n"
     ]
    }
   ],
   "metadata": {}
  }
 ],
 "metadata": {
  "kernelspec": {
   "display_name": "Python 3",
   "language": "python",
   "name": "python3"
  },
  "language_info": {
   "codemirror_mode": {
    "name": "ipython",
    "version": 3
   },
   "file_extension": ".py",
   "mimetype": "text/x-python",
   "name": "python",
   "nbconvert_exporter": "python",
   "pygments_lexer": "ipython3",
   "version": "3.7.6"
  }
 },
 "nbformat": 4,
 "nbformat_minor": 4
}