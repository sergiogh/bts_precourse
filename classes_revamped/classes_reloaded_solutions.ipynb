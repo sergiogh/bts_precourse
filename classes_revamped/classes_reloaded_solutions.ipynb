{
 "cells": [
  {
   "cell_type": "markdown",
   "metadata": {},
   "source": [
    "# Object Oriented Programming in Python!\n"
   ]
  },
  {
   "cell_type": "markdown",
   "metadata": {},
   "source": [
    "## Agenda for Today\n",
    "\n",
    "1. Why do we need object oriented programming?\n",
    "2. Other techniques and methodologies\n",
    "3. UML\n",
    "4. The MVC Pattern\n",
    "5. Exercise: Let's build a hotel application (Without Code!)\n",
    "6. Classes revamp\n",
    "7. SOLID\n",
    "8. Code our Hotel"
   ]
  },
  {
   "cell_type": "markdown",
   "metadata": {},
   "source": [
    "## Key Rersouces\n",
    "_(Really, read this articles and get those books)_\n",
    "\n",
    "* https://python-patterns.guide/\n",
    "* https://refactoring.guru/design-patterns/python\n",
    "* Head First Design Patterns. Freeman, Robson et.all (2004)\n",
    "* Mastering Python Design Patterns, 2nd Edition (2018). Ayeva & Kasampalis\n",
    "* Read code, read code, read code. And then code yourselves."
   ]
  },
  {
   "cell_type": "markdown",
   "metadata": {},
   "source": [
    "### UML Tutorials\n",
    "* https://www.codingame.com/playgrounds/503/design-patterns/uml-basics\n",
    "* https://www.tutorialspoint.com/uml/uml_basic_notations.htm"
   ]
  },
  {
   "cell_type": "code",
   "execution_count": null,
   "metadata": {},
   "outputs": [],
   "source": [
    "class Dog:\n",
    "\n",
    "    # Initializer / Instance Attributes\n",
    "    def __init__(self, name, age, weight):\n",
    "        self.name = name\n",
    "        self.age = age\n",
    "        self.weight = weight\n",
    "\n",
    "    # Class Attribute\n",
    "    species = 'mammal'\n",
    "    \n",
    "    \n",
    "nico = Dog(\"Dog name\", 5, 3)\n",
    "paco = Dog(\"Paco dog\", 4, 3.2)"
   ]
  },
  {
   "cell_type": "code",
   "execution_count": 26,
   "metadata": {},
   "outputs": [
    {
     "data": {
      "text/plain": [
       "False"
      ]
     },
     "execution_count": 26,
     "metadata": {},
     "output_type": "execute_result"
    }
   ],
   "source": [
    "a = Dog(\"Nico\", 5, 3.5)\n",
    "b = Dog(\"Nico\", 5, 3.5)\n",
    "a == b"
   ]
  },
  {
   "cell_type": "code",
   "execution_count": null,
   "metadata": {},
   "outputs": [],
   "source": []
  },
  {
   "cell_type": "code",
   "execution_count": 29,
   "metadata": {},
   "outputs": [
    {
     "data": {
      "text/plain": [
       "True"
      ]
     },
     "execution_count": 29,
     "metadata": {},
     "output_type": "execute_result"
    }
   ],
   "source": [
    "a = Dog(\"Nico\", 5, 3.5)\n",
    "b = a\n",
    "a == b"
   ]
  },
  {
   "cell_type": "code",
   "execution_count": 36,
   "metadata": {},
   "outputs": [],
   "source": [
    "class Dog:\n",
    "    species = \"mammal\"\n",
    "\n",
    "    # Initializer / Instance Attributes\n",
    "    def __init__(self, name, age):\n",
    "        self.name = name\n",
    "        self.age = age"
   ]
  },
  {
   "cell_type": "code",
   "execution_count": 34,
   "metadata": {},
   "outputs": [
    {
     "name": "stdout",
     "output_type": "stream",
     "text": [
      "Nico is 5 and Rocky is 6 and both are tomato mammal\n"
     ]
    }
   ],
   "source": [
    "# Instantiate the Dog object\n",
    "nico = Dog(\"Nico\", 5)\n",
    "rocky = Dog(\"Rocky\", 6)\n",
    "\n",
    "nico.species = \"tomato\"\n",
    "\n",
    "# Access the instance attributes\n",
    "print(\"{} is {} and {} is {} and both are {} {}\".format(\n",
    "    nico.name, nico.age, rocky.name, rocky.age, nico.species, rocky.species)\n",
    ")"
   ]
  },
  {
   "cell_type": "code",
   "execution_count": 37,
   "metadata": {},
   "outputs": [
    {
     "name": "stdout",
     "output_type": "stream",
     "text": [
      "Nico is 5\n",
      "Rocky is 6\n"
     ]
    }
   ],
   "source": [
    "list_of_dogs = [nico, rocky]\n",
    "for dog in list_of_dogs:\n",
    "    print(f\"{dog.name} is {dog.age}\")"
   ]
  },
  {
   "cell_type": "code",
   "execution_count": 38,
   "metadata": {},
   "outputs": [],
   "source": [
    "## BETTER\n",
    "\n",
    "class Dog:\n",
    "    species = \"mammal\"\n",
    "\n",
    "    # Initializer / Instance Attributes\n",
    "    def __init__(self, name, age):\n",
    "        self.name = name\n",
    "        self.age = age\n",
    "\n",
    "    def setSpecies(self, species):\n",
    "        self.species = species\n",
    "\n",
    "    def getSpecies(self):\n",
    "        return self.species"
   ]
  },
  {
   "cell_type": "code",
   "execution_count": 39,
   "metadata": {},
   "outputs": [
    {
     "name": "stdout",
     "output_type": "stream",
     "text": [
      "mammal\n",
      "cyborg\n"
     ]
    }
   ],
   "source": [
    "ringo = Dog(\"ringo\", 3)\n",
    "print(ringo.getSpecies())\n",
    "ringo.setSpecies(\"cyborg\")\n",
    "print(ringo.getSpecies())\n"
   ]
  },
  {
   "cell_type": "code",
   "execution_count": 62,
   "metadata": {},
   "outputs": [
    {
     "name": "stdout",
     "output_type": "stream",
     "text": [
      "NICO is a mammal\n",
      "Yummy\n",
      "SUNNY is a reptile\n",
      "Sfsffsfsfs\n",
      "PEPI is not a mammal is a Fish\n"
     ]
    }
   ],
   "source": [
    "class Animal:\n",
    "\n",
    "    species = \"Animal\"\n",
    "\n",
    "    def __init__(self, name, age):\n",
    "        self.name = name.upper()\n",
    "        self.age = age\n",
    "\n",
    "    def setSpecies(self, species):\n",
    "        self.species = species\n",
    "\n",
    "    def getSpecies(self):\n",
    "        return self.species\n",
    "\n",
    "class AnimalsThatLick(Animal):\n",
    "\n",
    "    def lick(self):\n",
    "        print(\"Yummy\")\n",
    "\n",
    "class Dog(AnimalsThatLick):\n",
    "\n",
    "    # Initializer / Instance Attributes\n",
    "    def __init__(self, name, age):\n",
    "        self.setSpecies(\"Mammal\")\n",
    "        super().__init__(name, age)\n",
    "        \n",
    "        \n",
    "class Lizard(AnimalsThatLick):\n",
    "\n",
    "    # Initializer / Instance Attributes\n",
    "    def __init__(self, name, age):\n",
    "        super().__init__(name, age)\n",
    "        self.setSpecies(\"Reptile\")\n",
    "\n",
    "    def lick(self):\n",
    "        print(\"Sfsffsfsfs\")\n",
    "\n",
    "class Fish(Animal):\n",
    "    def __init__(self, name, age):\n",
    "        super().__init__(name, age)\n",
    "        self.setSpecies(\"Fish\")\n",
    "\n",
    "        \n",
    "nico = Dog(\"Nico\", 3)\n",
    "sunny = Lizard(\"Sunny\", 2)\n",
    "pepi = Fish(\"Pepi\", 2)\n",
    "\n",
    "animals = [nico, sunny, pepi]\n",
    "\n",
    "for animal in animals:\n",
    "    if animal.getSpecies() == \"Mammal\":\n",
    "        print(f\"{animal.name} is a mammal\")\n",
    "        animal.lick()\n",
    "    elif animal.getSpecies() == \"Reptile\":\n",
    "        print(f\"{animal.name} is a reptile\")\n",
    "        animal.lick()\n",
    "    else:\n",
    "        print(f\"{animal.name} is not a mammal is a {animal.getSpecies()}\")\n",
    "    \n",
    "    "
   ]
  },
  {
   "cell_type": "markdown",
   "metadata": {},
   "source": [
    "## Inheritance"
   ]
  },
  {
   "cell_type": "code",
   "execution_count": 81,
   "metadata": {},
   "outputs": [],
   "source": [
    "class Mammal:\n",
    "    species = \"mammal\"\n",
    "    \n",
    "    def __init__(self, name, age):\n",
    "        self.name = name\n",
    "        self.age = age\n",
    "        self.has_eaten = False\n",
    "    \n",
    "    def eat(self):\n",
    "        self.has_eaten = True\n",
    "\n",
    "    def is_hungry(self):\n",
    "        if not self.has_eaten:\n",
    "            return f\"Yes! {self.name} is hungry\"\n",
    "        else:\n",
    "            return f\"No! {self.name} has already eaten\"\n",
    "\n",
    "class Dog(Mammal):\n",
    "    def bark(self):\n",
    "        return \"Guau, Guau\""
   ]
  },
  {
   "cell_type": "code",
   "execution_count": 82,
   "metadata": {},
   "outputs": [
    {
     "name": "stdout",
     "output_type": "stream",
     "text": [
      "Nico is 5\n"
     ]
    }
   ],
   "source": [
    "nico = Dog(\"Nico\", 5)\n",
    "print(f\"{nico.name} is {nico.age}\")"
   ]
  },
  {
   "cell_type": "code",
   "execution_count": 83,
   "metadata": {},
   "outputs": [
    {
     "data": {
      "text/plain": [
       "'Yes! Nico is hungry'"
      ]
     },
     "execution_count": 83,
     "metadata": {},
     "output_type": "execute_result"
    }
   ],
   "source": [
    "nico.is_hungry()"
   ]
  },
  {
   "cell_type": "code",
   "execution_count": 84,
   "metadata": {},
   "outputs": [
    {
     "name": "stdout",
     "output_type": "stream",
     "text": [
      "No! Nico has already eaten\n",
      "Yes! Nico is hungry\n"
     ]
    }
   ],
   "source": [
    "nico.eat()\n",
    "print(nico.is_hungry())\n",
    "nico.has_eaten = False\n",
    "print(nico.is_hungry())\n"
   ]
  },
  {
   "cell_type": "code",
   "execution_count": 85,
   "metadata": {},
   "outputs": [
    {
     "data": {
      "text/plain": [
       "'Guau, Guau'"
      ]
     },
     "execution_count": 85,
     "metadata": {},
     "output_type": "execute_result"
    }
   ],
   "source": [
    "nico.bark()"
   ]
  },
  {
   "cell_type": "code",
   "execution_count": 86,
   "metadata": {},
   "outputs": [
    {
     "data": {
      "text/plain": [
       "'mammal'"
      ]
     },
     "execution_count": 86,
     "metadata": {},
     "output_type": "execute_result"
    }
   ],
   "source": [
    "nico.species"
   ]
  },
  {
   "cell_type": "code",
   "execution_count": 87,
   "metadata": {},
   "outputs": [],
   "source": [
    "class Cat(Mammal):\n",
    "    def meow(self):\n",
    "        return \"Meow, Meow\""
   ]
  },
  {
   "cell_type": "code",
   "execution_count": 88,
   "metadata": {},
   "outputs": [
    {
     "data": {
      "text/plain": [
       "'Meow, Meow'"
      ]
     },
     "execution_count": 88,
     "metadata": {},
     "output_type": "execute_result"
    }
   ],
   "source": [
    "mika = Cat(\"Mika\", 2)\n",
    "mika.meow()"
   ]
  },
  {
   "cell_type": "code",
   "execution_count": 89,
   "metadata": {},
   "outputs": [
    {
     "data": {
      "text/plain": [
       "True"
      ]
     },
     "execution_count": 89,
     "metadata": {},
     "output_type": "execute_result"
    }
   ],
   "source": [
    "isinstance(nico, Dog)"
   ]
  },
  {
   "cell_type": "code",
   "execution_count": 90,
   "metadata": {},
   "outputs": [
    {
     "data": {
      "text/plain": [
       "True"
      ]
     },
     "execution_count": 90,
     "metadata": {},
     "output_type": "execute_result"
    }
   ],
   "source": [
    "isinstance(nico, Mammal)"
   ]
  },
  {
   "cell_type": "code",
   "execution_count": 91,
   "metadata": {},
   "outputs": [
    {
     "data": {
      "text/plain": [
       "False"
      ]
     },
     "execution_count": 91,
     "metadata": {},
     "output_type": "execute_result"
    }
   ],
   "source": [
    "isinstance(nico, Cat)"
   ]
  },
  {
   "cell_type": "code",
   "execution_count": 92,
   "metadata": {},
   "outputs": [],
   "source": [
    "class Chihuahua(Dog):\n",
    "    speed = 20\n",
    "    \n",
    "    def run(self):\n",
    "        return \"{} runs at {}\".format(self.name, self.speed)\n",
    "\n",
    "class Doberman(Dog):\n",
    "    speed = 35\n",
    "    \n",
    "    def run(self):\n",
    "        return \"{} runs at {}\".format(self.name, self.speed)"
   ]
  },
  {
   "cell_type": "code",
   "execution_count": 94,
   "metadata": {},
   "outputs": [
    {
     "data": {
      "text/plain": [
       "'Rocky runs at 35'"
      ]
     },
     "execution_count": 94,
     "metadata": {},
     "output_type": "execute_result"
    }
   ],
   "source": [
    "nico = Chihuahua(\"Nico\", 5)\n",
    "rocky = Doberman(\"Rocky\", 3)\n",
    "\n",
    "rocky.run()"
   ]
  },
  {
   "cell_type": "code",
   "execution_count": 95,
   "metadata": {},
   "outputs": [],
   "source": [
    "## Better\n",
    "\n",
    "class Mammal:\n",
    "    species = \"mammal\"\n",
    "    \n",
    "    def __init__(self, name, age):\n",
    "        self.name = name\n",
    "        self.age = age\n",
    "        self.has_eaten = False\n",
    "    \n",
    "    def eat(self):\n",
    "        self.has_eaten = True\n",
    "\n",
    "    def is_hungry(self):\n",
    "        if not self.has_eaten:\n",
    "            return f\"Yes! {self.name} is hungry\"\n",
    "        else:\n",
    "            return f\"No! {self.name} has already eaten\"\n",
    "\n",
    "    def speak(self):\n",
    "        #pass\n",
    "        raise NotImplementedError\n",
    "\n",
    "\n",
    "    def run(self):\n",
    "        #pass\n",
    "        raise NotImplementedError\n",
    "\n",
    "\n",
    "class Dog(Mammal):\n",
    "    def speak(self):\n",
    "        return \"Guau, Guau\"\n",
    "\n",
    "class Cat(Mammal):\n",
    "    def speak(self):\n",
    "        return \"Meow, Meow\"\n",
    "\n",
    "class Chihuahua(Dog):\n",
    "    speed = 20\n",
    "    \n",
    "    def run(self):\n",
    "        return \"{} runs at {}\".format(self.name, self.speed)\n",
    "\n",
    "class Doberman(Dog):\n",
    "    speed = 35\n",
    "    \n",
    "    def run(self):\n",
    "        return \"{} runs at {}\".format(self.name, self.speed)"
   ]
  },
  {
   "cell_type": "code",
   "execution_count": 96,
   "metadata": {},
   "outputs": [
    {
     "name": "stdout",
     "output_type": "stream",
     "text": [
      "Meow, Meow\n",
      "Guau, Guau\n"
     ]
    },
    {
     "ename": "NotImplementedError",
     "evalue": "",
     "output_type": "error",
     "traceback": [
      "\u001b[0;31m---------------------------------------------------------------------------\u001b[0m",
      "\u001b[0;31mNotImplementedError\u001b[0m                       Traceback (most recent call last)",
      "\u001b[0;32m<ipython-input-96-251c6723e274>\u001b[0m in \u001b[0;36m<module>\u001b[0;34m\u001b[0m\n\u001b[1;32m      6\u001b[0m \u001b[0;34m\u001b[0m\u001b[0m\n\u001b[1;32m      7\u001b[0m \u001b[0munknown_thing\u001b[0m \u001b[0;34m=\u001b[0m \u001b[0mMammal\u001b[0m\u001b[0;34m(\u001b[0m\u001b[0;34m\"john\"\u001b[0m\u001b[0;34m,\u001b[0m \u001b[0;36m4\u001b[0m\u001b[0;34m)\u001b[0m\u001b[0;34m\u001b[0m\u001b[0;34m\u001b[0m\u001b[0m\n\u001b[0;32m----> 8\u001b[0;31m \u001b[0mprint\u001b[0m\u001b[0;34m(\u001b[0m\u001b[0munknown_thing\u001b[0m\u001b[0;34m.\u001b[0m\u001b[0mspeak\u001b[0m\u001b[0;34m(\u001b[0m\u001b[0;34m)\u001b[0m\u001b[0;34m)\u001b[0m\u001b[0;34m\u001b[0m\u001b[0;34m\u001b[0m\u001b[0m\n\u001b[0m",
      "\u001b[0;32m<ipython-input-95-4a8b2dee382c>\u001b[0m in \u001b[0;36mspeak\u001b[0;34m(self)\u001b[0m\n\u001b[1;32m     20\u001b[0m     \u001b[0;32mdef\u001b[0m \u001b[0mspeak\u001b[0m\u001b[0;34m(\u001b[0m\u001b[0mself\u001b[0m\u001b[0;34m)\u001b[0m\u001b[0;34m:\u001b[0m\u001b[0;34m\u001b[0m\u001b[0;34m\u001b[0m\u001b[0m\n\u001b[1;32m     21\u001b[0m         \u001b[0;31m#pass\u001b[0m\u001b[0;34m\u001b[0m\u001b[0;34m\u001b[0m\u001b[0m\n\u001b[0;32m---> 22\u001b[0;31m         \u001b[0;32mraise\u001b[0m \u001b[0mNotImplementedError\u001b[0m\u001b[0;34m\u001b[0m\u001b[0;34m\u001b[0m\u001b[0m\n\u001b[0m\u001b[1;32m     23\u001b[0m \u001b[0;34m\u001b[0m\u001b[0m\n\u001b[1;32m     24\u001b[0m \u001b[0;34m\u001b[0m\u001b[0m\n",
      "\u001b[0;31mNotImplementedError\u001b[0m: "
     ]
    }
   ],
   "source": [
    "c = Cat(\"lala\",3)\n",
    "print(c.speak())\n",
    "\n",
    "d = Dog(\"john\", 4)\n",
    "print(d.speak())\n",
    "\n",
    "unknown_thing = Mammal(\"john\", 4)\n",
    "print(unknown_thing.speak())"
   ]
  },
  {
   "cell_type": "code",
   "execution_count": null,
   "metadata": {},
   "outputs": [],
   "source": [
    "class Pets:\n",
    "\n",
    "    animals = []\n",
    "\n",
    "    def __init__(self, animals):\n",
    "        self.animals.extend(animals)\n",
    "        \n",
    "my_pets = Pets([nico, mika])\n",
    "\n",
    "my_friend_pets = Pets([rocky])\n",
    "\n",
    "for pet in my_pets.animals:\n",
    "    print(f\"{pet.name} is one of my pets\")"
   ]
  },
  {
   "cell_type": "markdown",
   "metadata": {},
   "source": [
    "### Exercise: Create a Person class and then a Teacher and student class that inherits from Person. Students should have a method called study and teacher should have a method called teach that returns whether they are studying or they are teaching. Create a teacher and a couple of students."
   ]
  },
  {
   "cell_type": "code",
   "execution_count": null,
   "metadata": {},
   "outputs": [],
   "source": [
    "class Dog:\n",
    "    def bark(self):\n",
    "        return \"Guau guau\"\n",
    "\n",
    "class Person:\n",
    "    \n",
    "    def __init__(self, name):\n",
    "        self.name = name\n",
    "        \n",
    "class Teacher(Person):\n",
    "    def teach(self):\n",
    "        return f\"{self.name} is teaching\"\n",
    "    \n",
    "\n",
    "class Student(Person):\n",
    "    def study(self):\n",
    "        return f\"{self.name} is studying\"\n",
    "    \n",
    "teacher = Teacher(\"Teacher\")\n",
    "student1 = Student(\"Student1\")\n",
    "student2 = Student(\"Student2\")\n",
    "\n",
    "for x in [teacher, student1, student2]:\n",
    "    print(x.name)\n",
    "\n",
    "print(teacher.teach())\n",
    "print(student1.study())\n",
    "print(student2.study())\n",
    "\n",
    "for x in [teacher, student1, student2]:\n",
    "    if hasattr(x, \"study\"):\n",
    "        print(x.study())\n",
    "    else:\n",
    "        print(x.teach())"
   ]
  },
  {
   "cell_type": "markdown",
   "metadata": {},
   "source": [
    "## Exercise\n",
    "\n",
    "### Exercise: Create a Book class that receives two arguments on creation (author and title) and a method read which returns \"reading\". Create two classes RomanceBook and FantasyBook which inherit from Book and have a class argument with genre\n"
   ]
  },
  {
   "cell_type": "code",
   "execution_count": null,
   "metadata": {},
   "outputs": [],
   "source": [
    "class Book:\n",
    "    def __init__(self, title, author):\n",
    "        self.title = title\n",
    "        self.author = author\n",
    "        \n",
    "    def read(self):\n",
    "        return f\"Reading {self.title} from {self.author}\"\n",
    "    \n",
    "    \n",
    "class RomanceBook(Book):\n",
    "    genre = \"romance\"\n",
    "\n",
    "    \n",
    "class FantasyBook(Book):\n",
    "    genre = \"fantasy\""
   ]
  },
  {
   "cell_type": "code",
   "execution_count": null,
   "metadata": {},
   "outputs": [],
   "source": [
    "amor_en_tiempos_de_colera = RomanceBook(\"Amor en tiempos de Colera\", \"Gabriel Garcia Marquez\")\n",
    "hobbit = FantasyBook(\"The Hobbit\", \"Tolkien\")\n",
    "mistborn = FantasyBook(\"Mistborn\", \"Brandon Sanderson\")\n",
    "\n",
    "hobbit.read()"
   ]
  },
  {
   "cell_type": "markdown",
   "metadata": {},
   "source": [
    "### Exercise: Create a Library class that has a list of books"
   ]
  },
  {
   "cell_type": "code",
   "execution_count": null,
   "metadata": {},
   "outputs": [],
   "source": [
    "class Library:\n",
    "    \n",
    "    def __init__(self, books):\n",
    "        self.books = books\n",
    "        \n",
    "my_library = Library([amor_en_tiempos_de_colera, hobbit, mistborn])"
   ]
  },
  {
   "cell_type": "markdown",
   "metadata": {},
   "source": [
    "### Exercise: Add a method to borrow a book"
   ]
  },
  {
   "cell_type": "code",
   "execution_count": null,
   "metadata": {},
   "outputs": [],
   "source": [
    "class Library:\n",
    "    \n",
    "    def __init__(self, books):\n",
    "        self.books = books\n",
    "    \n",
    "    def borrow(self):\n",
    "        return self.books.pop(0)\n",
    "\n",
    "my_library = Library([amor_en_tiempos_de_colera, hobbit, mistborn])\n",
    "my_borrowed_book = my_library.borrow()\n",
    "print(my_borrowed_book.read())\n",
    "print(my_library.books)"
   ]
  },
  {
   "cell_type": "markdown",
   "metadata": {},
   "source": [
    "### Add a Method to return a Book"
   ]
  },
  {
   "cell_type": "code",
   "execution_count": null,
   "metadata": {},
   "outputs": [],
   "source": [
    "class Library:\n",
    "    \n",
    "    def __init__(self, A):\n",
    "        self.books = A\n",
    "    \n",
    "    def borrow(self):\n",
    "        return self.books.pop(0)\n",
    "    \n",
    "    def return_book(self, book):\n",
    "        self.books.append(book)\n",
    "my_weird_library = Library([1,2])\n",
    "my_library = Library([amor_en_tiempos_de_colera, hobbit, mistborn])\n",
    "my_borrowed_book = my_library.borrow()\n",
    "\n",
    "print(my_library.books)\n",
    "my_library.return_book(my_borrowed_book)\n",
    "print(my_library.books)"
   ]
  },
  {
   "cell_type": "markdown",
   "metadata": {},
   "source": [
    "### Exercise: Add a Method to borrow a Book of a sepcific type (fantasy or romance)"
   ]
  },
  {
   "cell_type": "code",
   "execution_count": null,
   "metadata": {},
   "outputs": [],
   "source": [
    "class Library:\n",
    "    \n",
    "    def __init__(self, books):\n",
    "        self.books = books\n",
    "    \n",
    "    def borrow(self):\n",
    "        return self.books.pop(0)\n",
    "    \n",
    "    def borrow_type(self, book_type):\n",
    "        for book in self.books:\n",
    "            if isinstance(book, book_type):\n",
    "                self.books.remove(book)\n",
    "                return book\n",
    "            \n",
    "    def borrow_all_type(self, book_type):\n",
    "        result = []\n",
    "        for book in self.books:\n",
    "            if isinstance(book, book_type):\n",
    "                result.append(book)\n",
    "        for remove_book in result:\n",
    "            self.books.remove(remove_book)\n",
    "        return result\n",
    "    \n",
    "    def return_book(self, book):\n",
    "        self.books.append(book)"
   ]
  },
  {
   "cell_type": "code",
   "execution_count": null,
   "metadata": {},
   "outputs": [],
   "source": [
    "my_library = Library([amor_en_tiempos_de_colera, hobbit, mistborn])\n",
    "my_borrowed_book = my_library.borrow_type(FantasyBook)\n",
    "\n",
    "print(my_borrowed_book.title)"
   ]
  },
  {
   "cell_type": "code",
   "execution_count": null,
   "metadata": {},
   "outputs": [],
   "source": [
    "class Library:\n",
    "    \n",
    "    def __init__(self, books):\n",
    "        self.books = books\n",
    "    \n",
    "    def borrow(self):\n",
    "        if len(self.books) > 0:\n",
    "            return self.books.pop(0)\n",
    "        else:\n",
    "            return False"
   ]
  },
  {
   "cell_type": "code",
   "execution_count": null,
   "metadata": {},
   "outputs": [],
   "source": [
    "my_library = Library([amor_en_tiempos_de_colera, hobbit, mistborn])\n",
    "my_borrowed_book = my_library.borrow()\n",
    "my_library.borrow()\n",
    "my_library.borrow()\n",
    "my_library.borrow()\n",
    "my_library.borrow()"
   ]
  },
  {
   "cell_type": "markdown",
   "metadata": {},
   "source": [
    "### Exercise: Update your borrow methods to check if there are no more books on the list before failing"
   ]
  },
  {
   "cell_type": "code",
   "execution_count": null,
   "metadata": {},
   "outputs": [],
   "source": [
    "class Library:\n",
    "    \n",
    "    def __init__(self, books):\n",
    "        self.books = books\n",
    "    \n",
    "    def borrow(self):\n",
    "        if len(self.books) > 0:\n",
    "            return self.books.pop(0)\n",
    "        return False\n",
    "    \n",
    "    def borrow_type(self, book_type):\n",
    "        for book in self.books:\n",
    "            if isinstance(book, book_type):\n",
    "                self.books.remove(book)\n",
    "                return book\n",
    "    \n",
    "    def return_book(self, book):\n",
    "        self.books.append(book)"
   ]
  },
  {
   "cell_type": "code",
   "execution_count": null,
   "metadata": {},
   "outputs": [],
   "source": [
    "my_library = Library([amor_en_tiempos_de_colera, hobbit, mistborn])\n",
    "my_borrowed_book = my_library.borrow_type(FantasyBook)\n",
    "print(my_borrowed_book.read())\n",
    "print(my_library.books)\n",
    "my_library.borrow()\n",
    "my_library.borrow()\n",
    "my_library.borrow()\n",
    "my_library.borrow()"
   ]
  },
  {
   "cell_type": "markdown",
   "metadata": {},
   "source": [
    "### More Magic Methods"
   ]
  },
  {
   "cell_type": "code",
   "execution_count": null,
   "metadata": {},
   "outputs": [],
   "source": [
    "class Dog:\n",
    "\n",
    "    # Class Attribute\n",
    "    species = 'mammal'\n",
    "\n",
    "    # Initializer / Instance Attributes\n",
    "    def __init__(self, name, age):\n",
    "        self.name = name\n",
    "        self.age = age\n",
    "        self.has_eaten = False"
   ]
  },
  {
   "cell_type": "code",
   "execution_count": null,
   "metadata": {},
   "outputs": [],
   "source": [
    "nico = Dog(\"Nico\", 4)\n",
    "rocky = Dog(\"Rocky\", 5)\n",
    "nico + rocky"
   ]
  },
  {
   "cell_type": "code",
   "execution_count": null,
   "metadata": {},
   "outputs": [],
   "source": [
    "class Dog:\n",
    "\n",
    "    # Class Attribute\n",
    "    species = 'mammal'\n",
    "\n",
    "    # Initializer / Instance Attributes\n",
    "    def __init__(self, name, age):\n",
    "        self.name = name\n",
    "        self.age = age\n",
    "        self.has_eaten = False\n",
    "\n",
    "    def __str__(self):\n",
    "        return f\"{self.name}\"\n",
    "\n",
    "    def __add__(self, other):\n",
    "        return f\"{self.name} + {other.name} = {self.age + other.age}\"\n",
    "        \n",
    "    def __ge__(self, other):\n",
    "        return self.age >= other.age"
   ]
  },
  {
   "cell_type": "code",
   "execution_count": null,
   "metadata": {},
   "outputs": [],
   "source": [
    "nico = Dog(\"Nico\", 4)\n",
    "rocky = Dog(\"Rocky\", 5)\n",
    "print(nico)\n",
    "print(rocky)\n",
    "print(nico >= rocky)\n",
    "print(nico + rocky)\n",
    "print(nico < rocky)"
   ]
  },
  {
   "cell_type": "markdown",
   "metadata": {},
   "source": [
    "## Final Exercise - Hotel Management System\n",
    "\n",
    "### Exercise: Create a Room class with a room number as a creation argument which has an is_empty attribute which is True by default\n",
    "\n",
    "### Add a method to give the keys that will put the is_empty to False\n",
    "\n",
    "### Add a method to exit the room which will put the room back to empty\n",
    "\n",
    "### Exercise: Create a hotel class that has a list of rooms\n",
    "\n",
    "### Exercise: Add a function to return an empty room number from the hotel. This will put the room as not empty\n",
    "\n",
    "### Exercise: Add a function to checkout a room number (this will put the room empty)\n",
    "\n",
    "### Add an earnings method with the earnings based on the room being full\n",
    "\n"
   ]
  },
  {
   "cell_type": "markdown",
   "metadata": {},
   "source": []
  },
  {
   "cell_type": "code",
   "execution_count": null,
   "metadata": {},
   "outputs": [],
   "source": [
    "class Dog:\n",
    "\n",
    "    # Class Attribute\n",
    "    species = 'mammal'\n",
    "\n",
    "    # Initializer / Instance Attributes\n",
    "    def __init__(self, name, age):\n",
    "        self.name = name\n",
    "        self.age = age\n",
    "        self.has_eaten = False\n",
    "\n",
    "    def __enter__(self):\n",
    "        print(\"Start eating\")\n",
    "        self.has_eaten = True\n",
    "        return self\n",
    "\n",
    "    def __exit__(self, *args):\n",
    "        print(\"Finish Eating\")\n",
    "        self.has_eaten = False"
   ]
  },
  {
   "cell_type": "code",
   "execution_count": null,
   "metadata": {},
   "outputs": [],
   "source": [
    "nico = Dog(\"Nico\", 3)\n",
    "print(nico.has_eaten)\n",
    "with nico:\n",
    "    print(nico.has_eaten)\n",
    "print(nico.has_eaten)"
   ]
  },
  {
   "cell_type": "markdown",
   "metadata": {},
   "source": [
    "### Exercise: Add to our room a context manager that will show they are occupied."
   ]
  },
  {
   "cell_type": "markdown",
   "metadata": {},
   "source": [
    "## Bonus Points\n",
    "\n",
    "1. Add a Guest class that has a name and can return the room he is in, and the dates\n",
    "2. Make the price dependant on the room. We have single, double and premium rooms\n",
    "3. Add an availability calendar to the Hotel class"
   ]
  },
  {
   "cell_type": "markdown",
   "metadata": {},
   "source": []
  }
 ],
 "metadata": {
  "interpreter": {
   "hash": "b0fa6594d8f4cbf19f97940f81e996739fb7646882a419484c72d19e05852a7e"
  },
  "kernelspec": {
   "display_name": "Python 3.9.7 64-bit",
   "name": "python3"
  },
  "language_info": {
   "codemirror_mode": {
    "name": "ipython",
    "version": 3
   },
   "file_extension": ".py",
   "mimetype": "text/x-python",
   "name": "python",
   "nbconvert_exporter": "python",
   "pygments_lexer": "ipython3",
   "version": "3.9.7"
  },
  "orig_nbformat": 4
 },
 "nbformat": 4,
 "nbformat_minor": 2
}
