{
 "cells": [
  {
   "cell_type": "markdown",
   "metadata": {},
   "source": [
    "## BTS - Python Precourse 2021-2022\n",
    "### Session 8\n",
    "\n",
    "Functions"
   ]
  },
  {
   "cell_type": "markdown",
   "metadata": {},
   "source": [
    "### Goals for Today\n",
    "* Recap\n",
    "* Final Project\n",
    "* Exercises from yesterday\n",
    "* Recap on quizes and tests\n",
    "* Functions!\n"
   ]
  },
  {
   "cell_type": "code",
   "execution_count": null,
   "metadata": {},
   "outputs": [],
   "source": [
    "def my_first_function():\n",
    "    print('Hello world!')\n",
    "\n",
    "print('type: {}'.format(my_first_function))\n",
    "\n",
    "#my_first_function()  # Calling a function"
   ]
  },
  {
   "cell_type": "code",
   "execution_count": null,
   "metadata": {},
   "outputs": [],
   "source": [
    "my_first_function()"
   ]
  },
  {
   "cell_type": "code",
   "execution_count": null,
   "metadata": {},
   "outputs": [],
   "source": [
    "test = {\"test\": \"Hello World\"}"
   ]
  },
  {
   "cell_type": "code",
   "execution_count": null,
   "metadata": {},
   "outputs": [],
   "source": [
    "def greet_us(name1, name2):\n",
    "    print(name1)\n",
    "    print(name2)\n"
   ]
  },
  {
   "cell_type": "code",
   "execution_count": null,
   "metadata": {},
   "outputs": [],
   "source": [
    "greet_us('Iva', 'Talia')"
   ]
  },
  {
   "cell_type": "code",
   "execution_count": null,
   "metadata": {},
   "outputs": [],
   "source": [
    "def addition(a,b):\n",
    "    print(\"I am adding {} and {}\".format(a,b))\n",
    "    result = a + b \n",
    "    return result"
   ]
  },
  {
   "cell_type": "code",
   "execution_count": null,
   "metadata": {},
   "outputs": [],
   "source": [
    "result = addition(1, 5)\n",
    "\n",
    "if(result > 2): \n",
    "    print(\"very big\")"
   ]
  },
  {
   "cell_type": "code",
   "execution_count": null,
   "metadata": {},
   "outputs": [],
   "source": [
    "# Function with return value\n",
    "def strip_and_lowercase(original):\n",
    "    modified = original.strip().lower()\n",
    "    return modified\n",
    "\n",
    "ugly_string = '  MixED CaSe '\n",
    "pretty = strip_and_lowercase(ugly_string)\n",
    "print('pretty: {}'.format(pretty))"
   ]
  },
  {
   "cell_type": "code",
   "execution_count": null,
   "metadata": {},
   "outputs": [],
   "source": [
    "ugly_string = '  MixED CaSe '\n",
    "\n",
    "def strip_and_lowercase(original):\n",
    "    ugly_string = original.strip().lower()\n",
    "\n",
    "strip_and_lowercase(ugly_string)\n",
    "print('pretty: {}'.format(ugly_string))"
   ]
  },
  {
   "cell_type": "code",
   "execution_count": null,
   "metadata": {},
   "outputs": [],
   "source": [
    "ugly_string = '  MixED CaSe '\n",
    "\n",
    "def strip_and_lowercase(a):\n",
    "    global ugly_string\n",
    "    ugly_string = ugly_string.strip().lower()+a\n",
    "    return \"This worked well\"\n",
    "\n",
    "result = strip_and_lowercase(\" but cute\")\n",
    "\n",
    "print('pretty: {}'.format(ugly_string))\n",
    "print(result)"
   ]
  },
  {
   "cell_type": "code",
   "execution_count": null,
   "metadata": {},
   "outputs": [],
   "source": [
    "word = list(\"abcde\")\n",
    "word.reverse()\n",
    "print(word)\n",
    "\n",
    "def my_reverse(my_list):\n",
    "    my_list.reverse()\n",
    "    my_list[0] = 'Z'\n",
    "\n",
    "my_list = list(\"abcde\")\n",
    "my_reverse(my_list)\n",
    "print(my_list)"
   ]
  },
  {
   "cell_type": "code",
   "execution_count": null,
   "metadata": {},
   "outputs": [],
   "source": [
    "%whos"
   ]
  },
  {
   "cell_type": "code",
   "execution_count": 11,
   "metadata": {},
   "outputs": [
    {
     "name": "stdout",
     "output_type": "stream",
     "text": [
      "Value inside function: 10\n",
      "Value outside function: 20\n"
     ]
    }
   ],
   "source": [
    "# More on Scope\n",
    "\n",
    "def my_func():\n",
    "    x = 10\n",
    "    print(\"Value inside function:\",x)\n",
    "\n",
    "x = 20\n",
    "my_func()\n",
    "print(\"Value outside function:\",x)"
   ]
  },
  {
   "cell_type": "code",
   "execution_count": 4,
   "metadata": {},
   "outputs": [
    {
     "name": "stdout",
     "output_type": "stream",
     "text": [
      "Before calling bar:  20\n",
      "Calling bar now\n",
      "After calling bar:  20\n",
      "x in main:  25\n"
     ]
    }
   ],
   "source": [
    "# Globals and nested variables\n",
    "\n",
    "def foo():\n",
    "    x = 20\n",
    "\n",
    "    def bar():\n",
    "        global x\n",
    "        x = 25\n",
    "    \n",
    "    print(\"Before calling bar: \", x)\n",
    "    print(\"Calling bar now\")\n",
    "    bar()\n",
    "    print(\"After calling bar: \", x)\n",
    "\n",
    "foo()\n",
    "print(\"x in main: \", x)"
   ]
  },
  {
   "cell_type": "code",
   "execution_count": 7,
   "metadata": {},
   "outputs": [
    {
     "name": "stdout",
     "output_type": "stream",
     "text": [
      "4\n",
      "4\n",
      "4\n",
      "4\n"
     ]
    }
   ],
   "source": [
    "def my_fancy_calculation(first, second, third):\n",
    "    return first + second - third \n",
    "\n",
    "print(my_fancy_calculation(3, 2, 1))\n",
    "\n",
    "print(my_fancy_calculation(first=3, second=2, third=1))\n",
    "\n",
    "# With keyword arguments you can mix the order\n",
    "print(my_fancy_calculation(third=1, first=3, second=2))\n",
    "\n",
    "# You can mix arguments and keyword arguments but you have to start with arguments\n",
    "print(my_fancy_calculation(3, third=1, second=2)) "
   ]
  },
  {
   "cell_type": "code",
   "execution_count": 18,
   "metadata": {},
   "outputs": [
    {
     "name": "stdout",
     "output_type": "stream",
     "text": [
      "{'name': 'John Doe', 'age': 82, 'salary': 400}\n",
      "{'name': 'Lisa Doe', 'age': 22, 'salary': 10000, 'job': 'hacker'}\n"
     ]
    },
    {
     "data": {
      "text/plain": [
       "'Lisa Doe'"
      ]
     },
     "execution_count": 18,
     "metadata": {},
     "output_type": "execute_result"
    }
   ],
   "source": [
    "\n",
    "def create_person_info(name, age, job=None, salary=400):\n",
    "    info = {'name': name, 'age': age, 'salary': salary}\n",
    "    \n",
    "    if job:  \n",
    "        info.update(dict(job=job))\n",
    "        \n",
    "    return info\n",
    "\n",
    "person1 = create_person_info('John Doe', 82)\n",
    "person2 = create_person_info('Lisa Doe', 22, job='hacker', salary=10000)\n",
    "print(person1)\n",
    "print(person2)\n",
    "person2['name']"
   ]
  },
  {
   "cell_type": "code",
   "execution_count": 22,
   "metadata": {},
   "outputs": [
    {
     "name": "stdout",
     "output_type": "stream",
     "text": [
      "[100]\n",
      "[100, 105]\n",
      "[100, 105]\n",
      "[]\n",
      "[100, 105, 125]\n"
     ]
    }
   ],
   "source": [
    "# Mutable arguments in default arguments = Problem\n",
    "\n",
    "def append_if_multiple_of_five(number, magical_list=[]):\n",
    "    if number % 5 == 0:\n",
    "        magical_list.append(number)\n",
    "    return magical_list\n",
    "\n",
    "print(append_if_multiple_of_five(100))\n",
    "print(append_if_multiple_of_five(105))\n",
    "print(append_if_multiple_of_five(123))\n",
    "print(append_if_multiple_of_five(123, []))\n",
    "print(append_if_multiple_of_five(125))"
   ]
  },
  {
   "cell_type": "code",
   "execution_count": 25,
   "metadata": {},
   "outputs": [
    {
     "name": "stdout",
     "output_type": "stream",
     "text": [
      "[100]\n",
      "[105]\n",
      "[]\n",
      "[]\n",
      "[]\n",
      "[200] [100]\n"
     ]
    }
   ],
   "source": [
    "# Better\n",
    "\n",
    "def append_if_multiple_of_five(number, magical_list=None):\n",
    "    if not magical_list:\n",
    "        magical_list = []\n",
    "    if number % 5 == 0:\n",
    "        magical_list.append(number)\n",
    "    \n",
    "    return magical_list\n",
    "\n",
    "my_list = append_if_multiple_of_five(100)\n",
    "print(my_list)\n",
    "print(append_if_multiple_of_five(105))\n",
    "print(append_if_multiple_of_five(123))\n",
    "print(append_if_multiple_of_five(123, []))\n",
    "print(append_if_multiple_of_five(123))\n",
    "print(append_if_multiple_of_five(200), my_list)"
   ]
  },
  {
   "cell_type": "code",
   "execution_count": 27,
   "metadata": {},
   "outputs": [
    {
     "name": "stdout",
     "output_type": "stream",
     "text": [
      "Hello Monica\n",
      "Hello Luke\n",
      "Hello Steve\n",
      "Hello John\n",
      "Hello Sergio\n",
      "Hello Paco\n"
     ]
    }
   ],
   "source": [
    "# Arbitrary arguments\n",
    "\n",
    "def greet(*names):\n",
    "    \"\"\"This function greets all\n",
    "    the person in the names tuple.\"\"\"\n",
    "\n",
    "    # names is a tuple with arguments\n",
    "    for name in names:\n",
    "        print(\"Hello\", name)\n",
    "\n",
    "\n",
    "greet(\"Monica\", \"Luke\", \"Steve\", \"John\", \"Sergio\", \"Paco\")"
   ]
  },
  {
   "cell_type": "code",
   "execution_count": 28,
   "metadata": {},
   "outputs": [
    {
     "name": "stdout",
     "output_type": "stream",
     "text": [
      "Help on function print_sum in module __main__:\n",
      "\n",
      "print_sum(val1, val2)\n",
      "    Function which prints the sum of given arguments.\n",
      "\n",
      "None\n"
     ]
    }
   ],
   "source": [
    "# Documentation\n",
    "\n",
    "def print_sum(val1, val2):\n",
    "    \"\"\"Function which prints the sum of given arguments.\"\"\"\n",
    "    print('sum: {}'.format(val1 + val2))\n",
    "\n",
    "print(help(print_sum))"
   ]
  },
  {
   "cell_type": "code",
   "execution_count": 30,
   "metadata": {},
   "outputs": [
    {
     "name": "stdout",
     "output_type": "stream",
     "text": [
      "Help on function calculate_sum in module __main__:\n",
      "\n",
      "calculate_sum(val1, val2)\n",
      "    This is a longer docstring defining also the args and the return value. \n",
      "    \n",
      "    Args:\n",
      "        val1: The first parameter.\n",
      "        val2: The second parameter.\n",
      "    \n",
      "    Returns:\n",
      "        The sum of val1 and val2.\n",
      "\n",
      "None\n"
     ]
    }
   ],
   "source": [
    "def calculate_sum(val1, val2):\n",
    "    \"\"\"This is a longer docstring defining also the args and the return value. \n",
    "\n",
    "    Args:\n",
    "        val1: The first parameter.\n",
    "        val2: The second parameter.\n",
    "\n",
    "    Returns:\n",
    "        The sum of val1 and val2.\n",
    "        \n",
    "    \"\"\"\n",
    "    return val1 + val2\n",
    "\n",
    "print(help(calculate_sum))"
   ]
  },
  {
   "cell_type": "code",
   "execution_count": 2,
   "metadata": {},
   "outputs": [],
   "source": [
    "def addition(a,b):\n",
    "    pass\n",
    "\n",
    "def substraction(a,b):\n",
    "    pass\n",
    "\n",
    "def multiplity(a,b):\n",
    "    pass\n",
    "\n",
    "def division(a,b):\n",
    "    pass"
   ]
  },
  {
   "cell_type": "code",
   "execution_count": 3,
   "metadata": {},
   "outputs": [],
   "source": [
    "addition(1,2)"
   ]
  },
  {
   "cell_type": "code",
   "execution_count": 4,
   "metadata": {},
   "outputs": [
    {
     "ename": "SyntaxError",
     "evalue": "invalid syntax (<ipython-input-4-31df3ca341de>, line 7)",
     "output_type": "error",
     "traceback": [
      "\u001b[0;36m  File \u001b[0;32m\"<ipython-input-4-31df3ca341de>\"\u001b[0;36m, line \u001b[0;32m7\u001b[0m\n\u001b[0;31m    print (\"Argument 1 %s\" % (sys.argv[1])\u001b[0m\n\u001b[0m    ^\u001b[0m\n\u001b[0;31mSyntaxError\u001b[0m\u001b[0;31m:\u001b[0m invalid syntax\n"
     ]
    }
   ],
   "source": [
    "# Command line example\n",
    "# Note you have to put this in a .py script!\n",
    "\n",
    "import sys\n",
    "\n",
    "print (\"The script has the name %s\" % (sys.argv[0])\n",
    "print (\"Argument 1 %s\" % (sys.argv[1])\n",
    "print (\"Argument 2 %s\" % (sys.argv[2])"
   ]
  },
  {
   "cell_type": "markdown",
   "metadata": {},
   "source": [
    "### Lambda functions\n",
    "\n",
    "In Python, an anonymous function is a function that is defined without a name.\n",
    "\n",
    "While normal functions are defined using the def keyword in Python, anonymous functions are defined using the lambda keyword. Hence, anonymous functions are also called lambda functions.\n",
    "\n",
    "We use lambda functions when we require a nameless function for a short period of time.\n",
    "\n",
    "In Python, we generally use it as an argument to a higher-order function (a function that takes in other functions as arguments). Lambda functions are used along with built-in functions like filter(), map() etc."
   ]
  },
  {
   "cell_type": "code",
   "execution_count": 5,
   "metadata": {},
   "outputs": [
    {
     "name": "stdout",
     "output_type": "stream",
     "text": [
      "10\n",
      "10\n"
     ]
    }
   ],
   "source": [
    "# Program to show the use of lambda functions\n",
    "double = lambda x: x * 2\n",
    "\n",
    "print(double(5))\n",
    "\n",
    "def my_double(x):\n",
    "    return x*2\n",
    "\n",
    "print(my_double(5))"
   ]
  },
  {
   "cell_type": "code",
   "execution_count": 8,
   "metadata": {},
   "outputs": [
    {
     "name": "stdout",
     "output_type": "stream",
     "text": [
      "[1, 5, 4, 6, 8, 11, 3, 12]\n"
     ]
    }
   ],
   "source": [
    "# Program to filter out only the even items from a list\n",
    "my_list = [1, 5, 4, 6, 8, 11, 3, 12]\n",
    "\n",
    "new_list = list(filter(lambda x: (x%2 == 0) , my_list))\n",
    "\n",
    "print(new_list)"
   ]
  },
  {
   "cell_type": "code",
   "execution_count": null,
   "metadata": {},
   "outputs": [],
   "source": [
    "# Program to double each item in a list using map()\n",
    "\n",
    "my_list = [1, 5, 4, 6, 8, 11, 3, 12]\n",
    "\n",
    "new_list = list(map(lambda x: x * 2 , my_list))\n",
    "\n",
    "print(new_list)"
   ]
  },
  {
   "cell_type": "markdown",
   "metadata": {},
   "source": [
    "### Exercises"
   ]
  },
  {
   "cell_type": "markdown",
   "metadata": {},
   "source": [
    "Define a function which can compute the an operation between two numbers. The third argument will be \"add\", \"substract\", \"multiply\" or \"divide\"\n",
    "\n",
    "Hints: Define a function with thre arguments. You can compute the function in the function and return the value."
   ]
  },
  {
   "cell_type": "code",
   "execution_count": 25,
   "metadata": {},
   "outputs": [
    {
     "name": "stdout",
     "output_type": "stream",
     "text": [
      "Give me the first number4\n",
      "Give me the second number... pliz5\n",
      "What do you want to do: +,-,*,/*\n",
      "Multiplication\n",
      "20.0\n"
     ]
    }
   ],
   "source": [
    "first_number = input(\"Give me the first number\")\n",
    "second_number = input(\"Give me the second number... pliz\")\n",
    "operation = input(\"What do you want to do: +,-,*,/\")\n",
    "\n",
    "result = 0\n",
    "first_number = float(first_number)\n",
    "second_number = float (second_number)\n",
    "if(operation==\"+\"):\n",
    "    print(\"Addition\")\n",
    "    result = first_number + second_number\n",
    "elif(operation==\"-\"):\n",
    "    print(\"Substraction\")\n",
    "    result = first_number - second_number\n",
    "elif(operation==\"/\"):\n",
    "    print(\"Division\")\n",
    "    result = first_number / second_number\n",
    "elif(operation==\"*\"):\n",
    "    print(\"Multiplication\")\n",
    "    result = first_number * second_number\n",
    "elif(operation==\"!\")\n",
    "    print(\"Factorial of \",first_number)\n",
    "    something....\n",
    "else:\n",
    "    print(\"Wrong operation code\")\n",
    "    result = False\n",
    "    \n",
    "print(result)"
   ]
  },
  {
   "cell_type": "code",
   "execution_count": 31,
   "metadata": {},
   "outputs": [
    {
     "name": "stdout",
     "output_type": "stream",
     "text": [
      "4\n",
      "3\n",
      "2\n",
      "1\n",
      "24\n"
     ]
    }
   ],
   "source": [
    "def factorial(n):\n",
    "    print(n)\n",
    "    if(n==1):\n",
    "        return n\n",
    "    else:\n",
    "        return factorial(n-1) * n\n",
    "    \n",
    "print(factorial(4))"
   ]
  },
  {
   "cell_type": "markdown",
   "metadata": {},
   "source": [
    "Define a function which can print a dictionary where the keys are numbers between 1 and 20 (both included) and the values are square of keys.\n",
    "\n",
    "Hints:\n",
    "\n",
    "Use dict[key]=value pattern to put entry into a dictionary. Use ** operator to get power of a number. Use range() for loops.\n"
   ]
  },
  {
   "cell_type": "code",
   "execution_count": null,
   "metadata": {},
   "outputs": [],
   "source": [
    "\n",
    "def printDict():\n",
    "    d=dict()\n",
    "    for i in range(1,21):\n",
    "        d[i]=i**2\n",
    "    print(d)\n",
    "\n",
    "printDict()"
   ]
  },
  {
   "cell_type": "markdown",
   "metadata": {},
   "source": [
    "### THE PROBLEM\n",
    "*Create a Videogame!*\n",
    "\n",
    "Let's create a text based role playing videogame.\n",
    "\n",
    "1. On start, the game will ask the player for his / her character name\n",
    "2. The character has 10 lives and 10 stamina points.\n",
    "3. The character can do two things: run or fight\n",
    "4. Every time the user inputs any data in an input, the program will process it, show the relevant message and ask again for another instruction\n",
    "5. If the character runs we show \"You coward!\" and reduce one point his stamina\n",
    "6. If the character fightss he has 50% chances of winning. If he wins we show \"Tough guy!\" and wins 1 point of stamina. If he loses we show \"You got hurt!\" and loses one point of life\n",
    "7. The program halts when the player runs out of either stamina or lives.\n",
    "\n",
    "Notes:\n",
    "Use functions wherever possible\n",
    "Use loops to keep the input showing\n",
    "Hint: Look for the \"random\" function in python"
   ]
  },
  {
   "cell_type": "code",
   "execution_count": null,
   "metadata": {},
   "outputs": [],
   "source": [
    "import random as r\n",
    "\n",
    "character_name = input(\"What is your name?\")\n",
    "stamina = 3\n",
    "lives = 3\n",
    "\n",
    "def fight():\n",
    "    global lives\n",
    "    if(r.random() > 0.5):\n",
    "        print(\"Tough guy!\")\n",
    "    else:\n",
    "        print(\"Ouch! You got hurt!\")\n",
    "        lives -= 1\n",
    "    \n",
    "def run():\n",
    "    global stamina\n",
    "    print(\"You coward!\")\n",
    "    stamina -= 1\n",
    "\n",
    "print(\"Welcome: {}\".format(character_name))\n",
    "    \n",
    "while(stamina > 0 and lives > 0):\n",
    "    action = input(\"What is your action? RUN / FIGHT\")\n",
    "    if(action == \"RUN\"):\n",
    "        run()\n",
    "        print(\"{} has {} stamina left\".format(character_name, stamina))\n",
    "        \n",
    "    elif(action == \"FIGHT\"):\n",
    "        fight()\n",
    "        print(\"{} has {} lives left\".format(character_name, lives))\n",
    "        \n",
    "    else:\n",
    "        print(\"Action not valid, you can't {} you silly!\".format(action))\n",
    "        \n",
    "    if(lives == 0):\n",
    "        print(\"{} HAS DIED\".format(character_name))\n",
    "    if(stamina == 0):\n",
    "        print(\"{} IS TOO TIRED TO CONTINUE\".format(character_name))\n",
    "         \n",
    "print(\"GAME OVER\")\n",
    "        "
   ]
  },
  {
   "cell_type": "code",
   "execution_count": null,
   "metadata": {},
   "outputs": [],
   "source": []
  }
 ],
 "metadata": {
  "kernelspec": {
   "display_name": "Python 3.8.5 64-bit ('base': conda)",
   "language": "python",
   "name": "python385jvsc74a57bd08f456ff94fd53e0f817d4a737eee7ddd3fa1df976068730d0458d065112af259"
  },
  "language_info": {
   "codemirror_mode": {
    "name": "ipython",
    "version": 3
   },
   "file_extension": ".py",
   "mimetype": "text/x-python",
   "name": "python",
   "nbconvert_exporter": "python",
   "pygments_lexer": "ipython3",
   "version": "3.8.5"
  }
 },
 "nbformat": 4,
 "nbformat_minor": 4
}
